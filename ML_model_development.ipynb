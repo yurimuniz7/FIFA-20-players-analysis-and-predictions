{
 "cells": [
  {
   "cell_type": "markdown",
   "metadata": {},
   "source": [
    "# 1 - Introduction"
   ]
  },
  {
   "cell_type": "markdown",
   "metadata": {},
   "source": [
    "This notebook is devoted to the development of the models used to predict wages and preferred positions of FIFA 20 players. Here I try to be as clear as possible about my thoughts on the process (data manipulation, metrics used, feature engineering etc)."
   ]
  },
  {
   "cell_type": "markdown",
   "metadata": {},
   "source": [
    "## Summary"
   ]
  },
  {
   "cell_type": "markdown",
   "metadata": {},
   "source": [
    "- [2 - Wage Predictions](#2---Wage-predictions)\n",
    "    - [2.1 - First model](#2.1---First-model)\n",
    "    - [2.2 - Dealing with skewness in the target variable](#2.2---Dealing-with-skewness-in-the-target-variable)\n",
    "    - [2.3 - Feature engineering](#2.3---Feature-engineering)\n",
    "    - [2.4 - Model tuning](#2.4---Model-tuning)\n",
    "    - [2.5 - Final model](#2.5---Final-model)\n",
    "    \n",
    "    \n",
    "- [3 - Preferred positions predictions](#3---Preferred-positions-predictions)\n",
    "    - [3.1 - First model](#3.1---First-model)\n",
    "    - [3.2 - Feature engineering](#3.2---Feature-engineering)\n",
    "    - [3.3 - Model tuning and predictions](#3.3---Model-tuning-and-predictions)\n",
    "    \n",
    "\n",
    "- [4 - About the application](#4---About-the-application)\n",
    "\n",
    "\n",
    "- [5 - Getting a response from the Flask API](#5---Getting-a-response-from-the-Flask-API)\n",
    "\n",
    "\n",
    "- [6 - Building a webapp](#6---Building-a-webapp)"
   ]
  },
  {
   "cell_type": "code",
   "execution_count": 1,
   "metadata": {},
   "outputs": [],
   "source": [
    "#Importing libraries used in this notebook\n",
    "\n",
    "import numpy as np\n",
    "import pandas as pd\n",
    "import matplotlib.pyplot as plt\n",
    "import seaborn as sns\n",
    "\n",
    "from sklearn.model_selection import train_test_split, KFold\n",
    "from sklearn.preprocessing import StandardScaler\n",
    "from sklearn.linear_model import Ridge\n",
    "from sklearn.model_selection import GridSearchCV\n",
    "import xgboost as xgb\n",
    "from sklearn.metrics import mean_squared_error,accuracy_score\n",
    "from sklearn.ensemble import RandomForestClassifier\n",
    "from scipy import stats\n",
    "from scipy.special import inv_boxcox\n",
    "\n",
    "import pickle\n",
    "import requests\n",
    "\n",
    "from IPython.display import clear_output"
   ]
  },
  {
   "cell_type": "code",
   "execution_count": 2,
   "metadata": {},
   "outputs": [
    {
     "data": {
      "text/html": [
       "<div>\n",
       "<style scoped>\n",
       "    .dataframe tbody tr th:only-of-type {\n",
       "        vertical-align: middle;\n",
       "    }\n",
       "\n",
       "    .dataframe tbody tr th {\n",
       "        vertical-align: top;\n",
       "    }\n",
       "\n",
       "    .dataframe thead th {\n",
       "        text-align: right;\n",
       "    }\n",
       "</style>\n",
       "<table border=\"1\" class=\"dataframe\">\n",
       "  <thead>\n",
       "    <tr style=\"text-align: right;\">\n",
       "      <th></th>\n",
       "      <th>name</th>\n",
       "      <th>overall</th>\n",
       "      <th>potential</th>\n",
       "      <th>nationality</th>\n",
       "      <th>description</th>\n",
       "      <th>height</th>\n",
       "      <th>weight</th>\n",
       "      <th>preferred_foot</th>\n",
       "      <th>birth_date</th>\n",
       "      <th>age</th>\n",
       "      <th>...</th>\n",
       "      <th>curve</th>\n",
       "      <th>fk_acc</th>\n",
       "      <th>penalties</th>\n",
       "      <th>volleys</th>\n",
       "      <th>gk_positioning</th>\n",
       "      <th>gk_diving</th>\n",
       "      <th>gk_handling</th>\n",
       "      <th>gk_kicking</th>\n",
       "      <th>gk_reflexes</th>\n",
       "      <th>specialities_traits</th>\n",
       "    </tr>\n",
       "  </thead>\n",
       "  <tbody>\n",
       "    <tr>\n",
       "      <th>0</th>\n",
       "      <td>Lionel Messi</td>\n",
       "      <td>94</td>\n",
       "      <td>94</td>\n",
       "      <td>Argentina</td>\n",
       "      <td>Lionel Messi was born on June 24, 1987. He is ...</td>\n",
       "      <td>170</td>\n",
       "      <td>72</td>\n",
       "      <td>Left</td>\n",
       "      <td>June 24, 1987</td>\n",
       "      <td>33</td>\n",
       "      <td>...</td>\n",
       "      <td>93</td>\n",
       "      <td>94</td>\n",
       "      <td>75</td>\n",
       "      <td>88</td>\n",
       "      <td>14</td>\n",
       "      <td>6</td>\n",
       "      <td>11</td>\n",
       "      <td>15</td>\n",
       "      <td>8</td>\n",
       "      <td>Dribbler/Distance Shooter/Crosser/FK Specialis...</td>\n",
       "    </tr>\n",
       "    <tr>\n",
       "      <th>1</th>\n",
       "      <td>Cristiano Ronaldo</td>\n",
       "      <td>93</td>\n",
       "      <td>93</td>\n",
       "      <td>Portugal</td>\n",
       "      <td>Cristiano Ronaldo was born on Feb. 5, 1985. He...</td>\n",
       "      <td>187</td>\n",
       "      <td>83</td>\n",
       "      <td>Right</td>\n",
       "      <td>Feb. 5, 1985</td>\n",
       "      <td>35</td>\n",
       "      <td>...</td>\n",
       "      <td>81</td>\n",
       "      <td>76</td>\n",
       "      <td>85</td>\n",
       "      <td>87</td>\n",
       "      <td>14</td>\n",
       "      <td>7</td>\n",
       "      <td>11</td>\n",
       "      <td>15</td>\n",
       "      <td>11</td>\n",
       "      <td>Dribbler/Distance Shooter/Acrobat/Clinical Fin...</td>\n",
       "    </tr>\n",
       "    <tr>\n",
       "      <th>2</th>\n",
       "      <td>Neymar Jr</td>\n",
       "      <td>92</td>\n",
       "      <td>92</td>\n",
       "      <td>Brazil</td>\n",
       "      <td>Neymar Jr was born on Feb. 5, 1992. He is curr...</td>\n",
       "      <td>175</td>\n",
       "      <td>68</td>\n",
       "      <td>Right</td>\n",
       "      <td>Feb. 5, 1992</td>\n",
       "      <td>28</td>\n",
       "      <td>...</td>\n",
       "      <td>88</td>\n",
       "      <td>89</td>\n",
       "      <td>92</td>\n",
       "      <td>87</td>\n",
       "      <td>15</td>\n",
       "      <td>9</td>\n",
       "      <td>9</td>\n",
       "      <td>15</td>\n",
       "      <td>11</td>\n",
       "      <td>Speedster/Dribbler/Playmaker/Crosser/FK Specia...</td>\n",
       "    </tr>\n",
       "    <tr>\n",
       "      <th>3</th>\n",
       "      <td>Virgil van Dijk</td>\n",
       "      <td>91</td>\n",
       "      <td>92</td>\n",
       "      <td>Netherlands</td>\n",
       "      <td>Virgil van Dijk was born on July 8, 1991. He i...</td>\n",
       "      <td>193</td>\n",
       "      <td>92</td>\n",
       "      <td>Right</td>\n",
       "      <td>July 8, 1991</td>\n",
       "      <td>29</td>\n",
       "      <td>...</td>\n",
       "      <td>60</td>\n",
       "      <td>70</td>\n",
       "      <td>62</td>\n",
       "      <td>45</td>\n",
       "      <td>11</td>\n",
       "      <td>13</td>\n",
       "      <td>10</td>\n",
       "      <td>13</td>\n",
       "      <td>11</td>\n",
       "      <td>Tackling/Tactician/Strength/Complete Defender/...</td>\n",
       "    </tr>\n",
       "    <tr>\n",
       "      <th>4</th>\n",
       "      <td>Jan Oblak</td>\n",
       "      <td>91</td>\n",
       "      <td>93</td>\n",
       "      <td>Slovenia</td>\n",
       "      <td>Jan Oblak was born on Jan. 7, 1993. He is curr...</td>\n",
       "      <td>188</td>\n",
       "      <td>87</td>\n",
       "      <td>Right</td>\n",
       "      <td>Jan. 7, 1993</td>\n",
       "      <td>27</td>\n",
       "      <td>...</td>\n",
       "      <td>13</td>\n",
       "      <td>14</td>\n",
       "      <td>11</td>\n",
       "      <td>13</td>\n",
       "      <td>90</td>\n",
       "      <td>87</td>\n",
       "      <td>92</td>\n",
       "      <td>78</td>\n",
       "      <td>89</td>\n",
       "      <td>Flair/Acrobatic Clearance</td>\n",
       "    </tr>\n",
       "  </tbody>\n",
       "</table>\n",
       "<p>5 rows × 53 columns</p>\n",
       "</div>"
      ],
      "text/plain": [
       "                name  overall  potential  nationality  \\\n",
       "0       Lionel Messi       94         94    Argentina   \n",
       "1  Cristiano Ronaldo       93         93     Portugal   \n",
       "2          Neymar Jr       92         92       Brazil   \n",
       "3    Virgil van Dijk       91         92  Netherlands   \n",
       "4          Jan Oblak       91         93     Slovenia   \n",
       "\n",
       "                                         description  height  weight  \\\n",
       "0  Lionel Messi was born on June 24, 1987. He is ...     170      72   \n",
       "1  Cristiano Ronaldo was born on Feb. 5, 1985. He...     187      83   \n",
       "2  Neymar Jr was born on Feb. 5, 1992. He is curr...     175      68   \n",
       "3  Virgil van Dijk was born on July 8, 1991. He i...     193      92   \n",
       "4  Jan Oblak was born on Jan. 7, 1993. He is curr...     188      87   \n",
       "\n",
       "  preferred_foot     birth_date  age  ... curve fk_acc  penalties  volleys  \\\n",
       "0           Left  June 24, 1987   33  ...    93     94         75       88   \n",
       "1          Right   Feb. 5, 1985   35  ...    81     76         85       87   \n",
       "2          Right   Feb. 5, 1992   28  ...    88     89         92       87   \n",
       "3          Right   July 8, 1991   29  ...    60     70         62       45   \n",
       "4          Right   Jan. 7, 1993   27  ...    13     14         11       13   \n",
       "\n",
       "   gk_positioning  gk_diving gk_handling gk_kicking  gk_reflexes  \\\n",
       "0              14          6          11         15            8   \n",
       "1              14          7          11         15           11   \n",
       "2              15          9           9         15           11   \n",
       "3              11         13          10         13           11   \n",
       "4              90         87          92         78           89   \n",
       "\n",
       "                                 specialities_traits  \n",
       "0  Dribbler/Distance Shooter/Crosser/FK Specialis...  \n",
       "1  Dribbler/Distance Shooter/Acrobat/Clinical Fin...  \n",
       "2  Speedster/Dribbler/Playmaker/Crosser/FK Specia...  \n",
       "3  Tackling/Tactician/Strength/Complete Defender/...  \n",
       "4                          Flair/Acrobatic Clearance  \n",
       "\n",
       "[5 rows x 53 columns]"
      ]
     },
     "execution_count": 2,
     "metadata": {},
     "output_type": "execute_result"
    }
   ],
   "source": [
    "#Data loading and cleaning (explained on fifa_players_analysis.ipynb file).\n",
    "\n",
    "players_df = pd.read_csv('fifaindex_players.csv')\n",
    "\n",
    "# Some players have team_club and team_nation values switched due to random differences in FIFA Index page layouts\n",
    "# This code corrects this issue by using the fact that team_nation must be equal to the nationality of the player\n",
    "condition = players_df['team_club']==players_df['nationality']\n",
    "players_df.loc[condition,'team_club'] = players_df[condition]['team_nation']\n",
    "players_df.loc[condition,'team_nation'] = players_df[condition]['nationality']\n",
    "\n",
    "# In the scrapper, missing data was assigned to 0, but there are also empty string missing data.\n",
    "players_df = players_df.replace([0,'0',' '],np.nan)\n",
    "\n",
    "# Removing strings from numeric features and converting them into int (or float)\n",
    "players_df['height'] = players_df['height'].apply(lambda x: x.strip(' cm')).astype(int)\n",
    "players_df['weight'] = players_df['weight'].apply(lambda x: x.strip(' kg')).astype(int)\n",
    "players_df['value'] = players_df['value'].apply(lambda x: x.strip('€').replace('.','') if (pd.notna(x)) else x).astype(float)\n",
    "players_df['wage'] = players_df['wage'].apply(lambda x: x.strip('€').replace('.','') if (pd.notna(x)) else x).astype(float)\n",
    "\n",
    "players_df.head()"
   ]
  },
  {
   "cell_type": "markdown",
   "metadata": {},
   "source": [
    "Dropping columns that will not be useful to make predictions."
   ]
  },
  {
   "cell_type": "code",
   "execution_count": 3,
   "metadata": {},
   "outputs": [
    {
     "name": "stdout",
     "output_type": "stream",
     "text": [
      "<class 'pandas.core.frame.DataFrame'>\n",
      "RangeIndex: 19626 entries, 0 to 19625\n",
      "Data columns (total 46 columns):\n",
      " #   Column               Non-Null Count  Dtype  \n",
      "---  ------               --------------  -----  \n",
      " 0   overall              19626 non-null  int64  \n",
      " 1   height               19626 non-null  int32  \n",
      " 2   weight               19626 non-null  int32  \n",
      " 3   preferred_foot       19626 non-null  object \n",
      " 4   age                  19626 non-null  int64  \n",
      " 5   preferred_positions  19626 non-null  object \n",
      " 6   work_rate            19626 non-null  object \n",
      " 7   weak_foot            19626 non-null  int64  \n",
      " 8   skill_moves          19626 non-null  int64  \n",
      " 9   value                19409 non-null  float64\n",
      " 10  wage                 19250 non-null  float64\n",
      " 11  ball_control         19626 non-null  int64  \n",
      " 12  dribbling            19626 non-null  int64  \n",
      " 13  marking              19626 non-null  int64  \n",
      " 14  side_tackle          19626 non-null  int64  \n",
      " 15  stand_tackle         19626 non-null  int64  \n",
      " 16  aggression           19626 non-null  int64  \n",
      " 17  reactions            19626 non-null  int64  \n",
      " 18  att_position         19626 non-null  int64  \n",
      " 19  interceptions        19626 non-null  int64  \n",
      " 20  vision               19626 non-null  int64  \n",
      " 21  composure            19626 non-null  int64  \n",
      " 22  crossing             19626 non-null  int64  \n",
      " 23  short_pass           19626 non-null  int64  \n",
      " 24  long_pass            19626 non-null  int64  \n",
      " 25  acceleration         19626 non-null  int64  \n",
      " 26  stamina              19626 non-null  int64  \n",
      " 27  strength             19626 non-null  int64  \n",
      " 28  balance              19626 non-null  int64  \n",
      " 29  sprint_speed         19626 non-null  int64  \n",
      " 30  agility              19626 non-null  int64  \n",
      " 31  jumping              19626 non-null  int64  \n",
      " 32  heading              19626 non-null  int64  \n",
      " 33  shot_power           19626 non-null  int64  \n",
      " 34  finishing            19626 non-null  int64  \n",
      " 35  long_shot            19626 non-null  int64  \n",
      " 36  curve                19626 non-null  int64  \n",
      " 37  fk_acc               19626 non-null  int64  \n",
      " 38  penalties            19626 non-null  int64  \n",
      " 39  volleys              19626 non-null  int64  \n",
      " 40  gk_positioning       19626 non-null  int64  \n",
      " 41  gk_diving            19626 non-null  int64  \n",
      " 42  gk_handling          19626 non-null  int64  \n",
      " 43  gk_kicking           19626 non-null  int64  \n",
      " 44  gk_reflexes          19626 non-null  int64  \n",
      " 45  specialities_traits  9044 non-null   object \n",
      "dtypes: float64(2), int32(2), int64(38), object(4)\n",
      "memory usage: 6.7+ MB\n"
     ]
    }
   ],
   "source": [
    "cols_to_drop = ['name','potential','nationality','description','birth_date','team_club','team_nation']\n",
    "players_df = players_df.drop(columns=cols_to_drop)\n",
    "players_df.info()"
   ]
  },
  {
   "cell_type": "markdown",
   "metadata": {},
   "source": [
    "# 2 - Wage predictions"
   ]
  },
  {
   "cell_type": "markdown",
   "metadata": {},
   "source": [
    "# 2.1 - First model"
   ]
  },
  {
   "cell_type": "markdown",
   "metadata": {},
   "source": [
    "It is always worth to start by making a model with the minimum amount of effort possible (without too much data cleaning and feature engineering). The goal here is to get a sense of the important features of the dataset and establish a ground to compare later. \n",
    "\n",
    "The only data preparation that we shall made here is related to the categories work_rate, preferred_positions and specialities_traits, that need to be splitted on \"/\". For work_rate, it is important to do the split since [the information on the left/right is related to the attacking/defensive work rate of the player](https://www.reddit.com/r/FIFA/comments/3znwub/beginners_guide_work_rates/). We then one-hot-encode the categorical features and feed the dataset to regression models (Ridge and XGBoost)"
   ]
  },
  {
   "cell_type": "code",
   "execution_count": 5,
   "metadata": {},
   "outputs": [],
   "source": [
    "# We do not want to use the value of a player to predict its wage\n",
    "players_df_wage = players_df.copy().drop(columns = ['value'])\n",
    "# Removing players without wage information\n",
    "players_df_wage = players_df_wage[players_df_wage['wage'].notna()]"
   ]
  },
  {
   "cell_type": "code",
   "execution_count": 13,
   "metadata": {},
   "outputs": [],
   "source": [
    "# Getting the attacking and defending work rates in separated columns\n",
    "players_df_wage['att_work_rate'] = players_df_wage['work_rate'].apply(lambda x: x.split(' / ')[0])\n",
    "players_df_wage['def_work_rate'] = players_df_wage['work_rate'].apply(lambda x: x.split(' / ')[1])\n",
    "\n",
    "# Splitting preferred_positions and specialities_traits on \"/\" --> generates many new categorical features\n",
    "\n",
    "preferred_positions_categories = []\n",
    "for i, row in players_df_wage.iterrows():\n",
    "    for position in row['preferred_positions'].split('/'):\n",
    "        players_df_wage.loc[i,position] = 1\n",
    "        preferred_positions_categories.append(position)\n",
    "        \n",
    "specialities_traits_categories = []        \n",
    "players_df_wage['specialities_traits'] = players_df_wage['specialities_traits'].fillna('none')\n",
    "for i, row in players_df_wage.iterrows():\n",
    "    for speciality_trait in row['specialities_traits'].split('/'):\n",
    "        players_df_wage.loc[i,speciality_trait.replace(' ','_')] = 1\n",
    "        specialities_traits_categories.append(speciality_trait.replace(' ','_'))\n",
    "        \n",
    "preferred_positions_categories = list(set(preferred_positions_categories))\n",
    "specialities_traits_categories = list(set(specialities_traits_categories))\n",
    "        \n",
    "players_df_wage = players_df_wage.fillna(0)\n",
    "players_df_wage[preferred_positions_categories+specialities_traits_categories] = players_df_wage[preferred_positions_categories+specialities_traits_categories].astype(int)\n",
    "\n",
    "# One-hot-encoding the remaining categories\n",
    "players_df_wage = pd.get_dummies(players_df_wage.drop(columns=['preferred_positions','specialities_traits','work_rate']))"
   ]
  },
  {
   "cell_type": "markdown",
   "metadata": {},
   "source": [
    "Running a ridge regressor, using GridSearchCV to find the best value for the regularization hyperparameter, and evaluating its RMSE score on the validation and test sets"
   ]
  },
  {
   "cell_type": "code",
   "execution_count": 17,
   "metadata": {},
   "outputs": [
    {
     "name": "stdout",
     "output_type": "stream",
     "text": [
      "Ridge - RMSE: 12994.861732 using {'alpha': 1}\n",
      "Ridge - test set RMSE: 14635.222598\n"
     ]
    }
   ],
   "source": [
    "X_train, X_test, y_train, y_test = train_test_split(players_df_wage.drop(columns=['wage']),players_df_wage['wage'],\\\n",
    "                                                    test_size=0.2,random_state=42)\n",
    "\n",
    "num_cols = ['overall', 'height', 'weight', 'age', 'weak_foot', 'skill_moves','ball_control', 'dribbling', 'marking',\\\n",
    " 'side_tackle', 'stand_tackle', 'aggression', 'reactions', 'att_position', 'interceptions', 'vision', 'composure',\\\n",
    " 'crossing', 'short_pass', 'long_pass', 'acceleration', 'stamina', 'strength', 'balance', 'sprint_speed', 'agility',\\\n",
    " 'jumping', 'heading', 'shot_power', 'finishing', 'long_shot', 'curve', 'fk_acc', 'penalties', 'volleys',\\\n",
    " 'gk_positioning', 'gk_diving', 'gk_handling', 'gk_kicking', 'gk_reflexes']\n",
    "scaler = StandardScaler()\n",
    "X_train[num_cols] = scaler.fit_transform(X_train[num_cols])\n",
    "\n",
    "param_grid = {'alpha':[0.1,0.3,1,10,30,100,300]}\n",
    "grid_ridge = GridSearchCV(estimator=Ridge(), param_grid=param_grid, cv=5,scoring='neg_mean_squared_error')\n",
    "\n",
    "grid_ridge_result = grid_ridge.fit(X_train,y_train)\n",
    "best_score_ridge, best_params_ridge = -grid_ridge_result.best_score_,grid_ridge_result.best_params_\n",
    "print(\"Ridge - RMSE: %f using %s\" % (np.sqrt(best_score_ridge), best_params_ridge))\n",
    "\n",
    "X_test[num_cols] = scaler.transform(X_test[num_cols])\n",
    "y_pred = grid_ridge_result.predict(X_test)\n",
    "score = np.sqrt(mean_squared_error(y_test, y_pred))\n",
    "\n",
    "print(\"Ridge - test set RMSE: %f\" % score)"
   ]
  },
  {
   "cell_type": "markdown",
   "metadata": {},
   "source": [
    "Running a XGBoost regressor for a fixed set of hyperparameters, evaluating its RMSE score on the validation and test sets, and visualizing the most important features to the predictor."
   ]
  },
  {
   "cell_type": "code",
   "execution_count": 18,
   "metadata": {},
   "outputs": [
    {
     "name": "stdout",
     "output_type": "stream",
     "text": [
      "Training the model using fold number 1...\n",
      "RMSE over the validation set: 9471.925\n",
      "Training the model using fold number 2...\n",
      "RMSE over the validation set: 7492.989\n",
      "Training the model using fold number 3...\n",
      "RMSE over the validation set: 9088.845\n",
      "Training the model using fold number 4...\n",
      "RMSE over the validation set: 9340.192\n",
      "Training the model using fold number 5...\n",
      "RMSE over the validation set: 9013.758\n",
      "RMSE score average over the validation sets: 8881.542\n",
      "\n",
      "XGBoost RMSE score over the test set: 10209.494\n",
      "\n"
     ]
    },
    {
     "data": {
      "image/png": "[encoded data removed]",
      "text/plain": [
       "<Figure size 720x720 with 1 Axes>"
      ]
     },
     "metadata": {
      "needs_background": "light"
     },
     "output_type": "display_data"
    }
   ],
   "source": [
    "X_train, X_test, y_train, y_test = train_test_split(players_df_wage.drop(columns=['wage']),players_df_wage['wage'],\\\n",
    "                                                    test_size=0.2,random_state=42)\n",
    "\n",
    "params = {'n_estimators': 1000,\n",
    "          'min_child_weight': 1,\n",
    "          'max_depth': 5,\n",
    "          'learning_rate': 0.05,\n",
    "          \"eval_metric\": 'rmse',\n",
    "          'alpha': 3,\n",
    "          'lambda': 3,\n",
    "          'subsample': 0.8,\n",
    "          'colsample_bytree': 0.8,\n",
    "          'scale_pos_weight': 1,\n",
    "          'seed': 27\n",
    "         }\n",
    "\n",
    "n_splits = 5\n",
    "kf = KFold(n_splits=n_splits,shuffle=True)\n",
    "kf.get_n_splits(X_train, y_train)\n",
    "\n",
    "scores = []\n",
    "i = 1\n",
    "feat_imp = pd.Series(0, index=X_train.columns)\n",
    "for train_index, valid_index in kf.split(X_train, y_train):\n",
    "    print('Training the model using fold number {}...'.format(i))\n",
    "    X_train_train, X_train_valid = X_train.iloc[train_index,:], X_train.iloc[valid_index,:]\n",
    "    y_train_train, y_train_valid = y_train.iloc[train_index], y_train.iloc[valid_index]\n",
    "\n",
    "    model = xgb.XGBRegressor(**params)\n",
    "    model.fit(X_train_train, y_train_train,eval_set=[(X_train_train, y_train_train), (X_train_valid, y_train_valid)],\\\n",
    "              eval_metric='rmse', early_stopping_rounds=200,verbose=False)\n",
    "    y_pred_valid = model.predict(X_train_valid)\n",
    "    score = np.sqrt(mean_squared_error(y_train_valid, y_pred_valid))\n",
    "    scores.append(score)\n",
    "    feat_imp += pd.Series(model.feature_importances_, index=X_train.columns)/n_splits\n",
    "    print('RMSE over the validation set: {:.3f}'.format(score))\n",
    "    i += 1\n",
    "    \n",
    "print('RMSE score average over the validation sets: {:.3f}\\n'.format(np.mean(scores)))  \n",
    "\n",
    "y_pred_xgb = model.predict(X_test)\n",
    "score_xgb = np.sqrt(mean_squared_error(y_test, y_pred_xgb))\n",
    "print('XGBoost RMSE score over the test set: {:.3f}\\n'.format(score_xgb))\n",
    "\n",
    "fig,ax = plt.subplots(figsize=(10,10))\n",
    "_ = feat_imp.nlargest(20).sort_values().plot(kind='barh',ax=ax)\n",
    "_ = ax.set_xlabel('Average importance (a.u.)')\n",
    "_ = ax.set_ylabel('Features')\n",
    "plt.show()"
   ]
  },
  {
   "cell_type": "markdown",
   "metadata": {},
   "source": [
    "As expected, \"overall\" is the most important attribute to predict wage. It is interesting to see that attributes like [\"reactions\"](https://www.fifplay.com/encyclopedia/player-attribute-reactions/) and [\"composure\"](https://www.fifplay.com/encyclopedia/player-attribute-composure/), which do not depend on the player's position, are also very important. The [specialities](https://www.fifauteam.com/fifa-20-traits-specialities-guide/) of a player also play an important role on the predictor since they are derived from the attributes and physical details of a player, indicating their specific set of qualities and/or skills. XGBoost made much better predictions than a simple linear regression. Hence, for now on we shall only use this model to predict wage.\n",
    "\n",
    "Since we are dealing with a wide range of wages (1000 euros to 500000), let's plot the residuals to get a better sense on how our model is performing on unseen data."
   ]
  },
  {
   "cell_type": "code",
   "execution_count": 19,
   "metadata": {},
   "outputs": [
    {
     "data": {
      "image/png": "[encoded data removed]",
      "text/plain": [
       "<Figure size 1080x360 with 2 Axes>"
      ]
     },
     "metadata": {
      "needs_background": "light"
     },
     "output_type": "display_data"
    }
   ],
   "source": [
    "fig,ax = plt.subplots(figsize=(15,5),nrows=1,ncols=2)\n",
    "sns.histplot((y_pred_xgb - y_test),ax=ax[0])\n",
    "sns.histplot((y_pred_xgb - y_test)/y_test,ax=ax[1])\n",
    "ax[0].set_xlabel('Wage error')\n",
    "ax[0].set_xlim([-50000,50000])\n",
    "ax[1].set_xlabel('Wage relative error')\n",
    "plt.show()"
   ]
  },
  {
   "cell_type": "markdown",
   "metadata": {},
   "source": [
    "It is nice that the residuals are normally distributed around 0. However, we have many predictions with a very high relative error, which is not desirable (we do not want to predict a wage of 50000 euros when it is possible to sign a contract paying only 10000 euros). Let's see if we can do something about it."
   ]
  },
  {
   "cell_type": "markdown",
   "metadata": {},
   "source": [
    "# 2.2 - Dealing with skewness in the target variable"
   ]
  },
  {
   "cell_type": "code",
   "execution_count": 20,
   "metadata": {},
   "outputs": [
    {
     "name": "stdout",
     "output_type": "stream",
     "text": [
      "wage skewness: 8.215\n"
     ]
    },
    {
     "data": {
      "image/png": "[encoded data removed]",
      "text/plain": [
       "<Figure size 432x288 with 1 Axes>"
      ]
     },
     "metadata": {
      "needs_background": "light"
     },
     "output_type": "display_data"
    }
   ],
   "source": [
    "players_df_wage['wage'].hist(bins=100)\n",
    "print(\"wage skewness: {:.3f}\".format(players_df_wage['wage'].skew()))\n",
    "plt.show()"
   ]
  },
  {
   "cell_type": "code",
   "execution_count": 21,
   "metadata": {},
   "outputs": [
    {
     "data": {
      "image/png": "[encoded data removed]",
      "text/plain": [
       "<Figure size 432x288 with 1 Axes>"
      ]
     },
     "metadata": {
      "needs_background": "light"
     },
     "output_type": "display_data"
    }
   ],
   "source": [
    "players_df_wage['wage'].hist(bins=100)\n",
    "plt.yscale('log')\n",
    "plt.show()"
   ]
  },
  {
   "cell_type": "markdown",
   "metadata": {},
   "source": [
    "Our data has a huge skewness. Even in log scale we can observe an exponential decay on the number of players as we increase the wage. It may be a good idea to deal with it. There are [some methods for handling skewed data](https://towardsdatascience.com/top-3-methods-for-handling-skewed-data-1334e0debf45), which we shall apply here. Let's plot histograms of the player's wages after a log and a boxcox transformation."
   ]
  },
  {
   "cell_type": "code",
   "execution_count": 22,
   "metadata": {},
   "outputs": [
    {
     "name": "stdout",
     "output_type": "stream",
     "text": [
      "wage skewness after a log transformation: 0.990\n"
     ]
    },
    {
     "data": {
      "image/png": "[encoded data removed]",
      "text/plain": [
       "<Figure size 432x288 with 1 Axes>"
      ]
     },
     "metadata": {
      "needs_background": "light"
     },
     "output_type": "display_data"
    }
   ],
   "source": [
    "np.log1p(players_df_wage['wage']).hist(bins=100)\n",
    "print(\"wage skewness after a log transformation: {:.3f}\".format(np.log1p(players_df_wage['wage']).skew()))\n",
    "plt.show()"
   ]
  },
  {
   "cell_type": "code",
   "execution_count": 23,
   "metadata": {},
   "outputs": [
    {
     "name": "stdout",
     "output_type": "stream",
     "text": [
      "wage skewness after a boxcox transformation: 0.250\n"
     ]
    },
    {
     "data": {
      "image/png": "[encoded data removed]",
      "text/plain": [
       "<Figure size 432x288 with 1 Axes>"
      ]
     },
     "metadata": {
      "needs_background": "light"
     },
     "output_type": "display_data"
    }
   ],
   "source": [
    "wage_boxcox = stats.boxcox(players_df_wage['wage'])\n",
    "print(\"wage skewness after a boxcox transformation: {:.3f}\".format(pd.Series(wage_boxcox[0]).skew()))\n",
    "pd.Series(wage_boxcox[0]).hist(bins=100)\n",
    "plt.show()"
   ]
  },
  {
   "cell_type": "markdown",
   "metadata": {},
   "source": [
    "A log transformation reduces skewness by a substantial amount, but the boxcox reduces it much more. However, we still see a high concentration of data in the first bin. For now, let's see if the model performs better after one of these transformations."
   ]
  },
  {
   "cell_type": "code",
   "execution_count": 24,
   "metadata": {},
   "outputs": [],
   "source": [
    "# Defining the transformed columns\n",
    "players_df_wage['wage_boxcox'] = wage_boxcox[0]\n",
    "players_df_wage['wage_log'] = np.log1p(players_df_wage['wage'])"
   ]
  },
  {
   "cell_type": "code",
   "execution_count": 25,
   "metadata": {},
   "outputs": [
    {
     "name": "stdout",
     "output_type": "stream",
     "text": [
      "Training the model using fold number 1...\n",
      "RMSLE over the validation set: 0.470\n",
      "Training the model using fold number 2...\n",
      "RMSLE over the validation set: 0.457\n",
      "Training the model using fold number 3...\n",
      "RMSLE over the validation set: 0.468\n",
      "Training the model using fold number 4...\n",
      "RMSLE over the validation set: 0.470\n",
      "Training the model using fold number 5...\n",
      "RMSLE over the validation set: 0.466\n",
      "RMSLE score average over the validation sets: 0.466\n",
      "\n",
      "XGBoost RMSLE score over the test set: 0.467\n",
      "\n"
     ]
    },
    {
     "data": {
      "image/png": "[encoded data removed]",
      "text/plain": [
       "<Figure size 1080x360 with 2 Axes>"
      ]
     },
     "metadata": {
      "needs_background": "light"
     },
     "output_type": "display_data"
    }
   ],
   "source": [
    "X_train, X_test, y_train, y_test = train_test_split(players_df_wage.drop(columns=['wage','wage_log','wage_boxcox']),players_df_wage['wage_log'],\\\n",
    "                                                    test_size=0.2,random_state=42)\n",
    "params = {'n_estimators': 1000,\n",
    "          'min_child_weight': 1,\n",
    "          'max_depth': 5,\n",
    "          'learning_rate': 0.05,\n",
    "          \"eval_metric\": 'rmse',\n",
    "          'alpha': 3,\n",
    "          'lambda': 3,\n",
    "          'subsample': 0.8,\n",
    "          'colsample_bytree': 0.8,\n",
    "          'scale_pos_weight': 1,\n",
    "          'seed': 27\n",
    "         }\n",
    "\n",
    "n_splits = 5\n",
    "kf = KFold(n_splits=n_splits,shuffle=True)\n",
    "kf.get_n_splits(X_train, y_train)\n",
    "\n",
    "scores = []\n",
    "i = 1\n",
    "for train_index, valid_index in kf.split(X_train, y_train):\n",
    "    print('Training the model using fold number {}...'.format(i))\n",
    "    X_train_train, X_train_valid = X_train.iloc[train_index,:], X_train.iloc[valid_index,:]\n",
    "    y_train_train, y_train_valid = y_train.iloc[train_index], y_train.iloc[valid_index]\n",
    "\n",
    "    model = xgb.XGBRegressor(**params)\n",
    "    model.fit(X_train_train, y_train_train,eval_set=[(X_train_train, y_train_train), (X_train_valid, y_train_valid)],\\\n",
    "              eval_metric='rmse', early_stopping_rounds=200,verbose=False)\n",
    "    y_pred_valid = model.predict(X_train_valid)\n",
    "    score = np.sqrt(mean_squared_error(y_train_valid, y_pred_valid))\n",
    "    scores.append(score)\n",
    "    print('RMSLE over the validation set: {:.3f}'.format(score))\n",
    "    i += 1\n",
    "    \n",
    "print('RMSLE score average over the validation sets: {:.3f}\\n'.format(np.mean(scores)))  \n",
    "\n",
    "y_pred_xgb = model.predict(X_test)\n",
    "score_xgb = np.sqrt(mean_squared_error(y_test, y_pred_xgb))\n",
    "print('XGBoost RMSLE score over the test set: {:.3f}\\n'.format(score_xgb))\n",
    "\n",
    "y_test_inv = np.expm1(y_test)\n",
    "y_pred_xgb_inv = np.expm1(y_pred_xgb)\n",
    "\n",
    "fig,ax = plt.subplots(figsize=(15,5),nrows=1,ncols=2)\n",
    "sns.histplot((y_pred_xgb_inv - y_test_inv),ax=ax[0])\n",
    "sns.histplot((y_pred_xgb_inv - y_test_inv)/y_test_inv,ax=ax[1])\n",
    "ax[0].set_xlabel('wage error')\n",
    "ax[0].set_xlim([-50000,50000])\n",
    "ax[1].set_xlabel('wage relative error')\n",
    "plt.show()"
   ]
  },
  {
   "cell_type": "markdown",
   "metadata": {},
   "source": [
    "It seems that a log transformation reduced the relative error, but we still have some data that the model miss by more than 100%. Let's see the boxcox transformation."
   ]
  },
  {
   "cell_type": "code",
   "execution_count": 26,
   "metadata": {},
   "outputs": [
    {
     "name": "stdout",
     "output_type": "stream",
     "text": [
      "Training the model using fold number 1...\n",
      "Boxcox RMSE over the validation set: 0.007\n",
      "Training the model using fold number 2...\n",
      "Boxcox RMSE over the validation set: 0.007\n",
      "Training the model using fold number 3...\n",
      "Boxcox RMSE over the validation set: 0.007\n",
      "Training the model using fold number 4...\n",
      "Boxcox RMSE over the validation set: 0.007\n",
      "Training the model using fold number 5...\n",
      "Boxcox RMSE over the validation set: 0.007\n",
      "Boxcox RMSE score average over the validation sets: 0.007\n",
      "\n",
      "XGBoost boxcox RMSE score over the test set: 0.007\n",
      "\n"
     ]
    },
    {
     "data": {
      "image/png": "[encoded data removed]",
      "text/plain": [
       "<Figure size 1080x360 with 2 Axes>"
      ]
     },
     "metadata": {
      "needs_background": "light"
     },
     "output_type": "display_data"
    }
   ],
   "source": [
    "X_train, X_test, y_train, y_test = train_test_split(players_df_wage.drop(columns=['wage','wage_log','wage_boxcox']),players_df_wage['wage_boxcox'],\\\n",
    "                                                    test_size=0.2,random_state=42)\n",
    "params = {'n_estimators': 1000,\n",
    "          'min_child_weight': 1,\n",
    "          'max_depth': 5,\n",
    "          'learning_rate': 0.05,\n",
    "          \"eval_metric\": 'rmse',\n",
    "          'alpha': 3,\n",
    "          'lambda': 3,\n",
    "          'subsample': 0.8,\n",
    "          'colsample_bytree': 0.8,\n",
    "          'scale_pos_weight': 1,\n",
    "          'seed': 27\n",
    "         }\n",
    "\n",
    "n_splits = 5\n",
    "kf = KFold(n_splits=n_splits,shuffle=True)\n",
    "kf.get_n_splits(X_train, y_train)\n",
    "\n",
    "scores = []\n",
    "i = 1\n",
    "for train_index, valid_index in kf.split(X_train, y_train):\n",
    "    print('Training the model using fold number {}...'.format(i))\n",
    "    X_train_train, X_train_valid = X_train.iloc[train_index,:], X_train.iloc[valid_index,:]\n",
    "    y_train_train, y_train_valid = y_train.iloc[train_index], y_train.iloc[valid_index]\n",
    "\n",
    "    model = xgb.XGBRegressor(**params)\n",
    "    model.fit(X_train_train, y_train_train,eval_set=[(X_train_train, y_train_train), (X_train_valid, y_train_valid)],\\\n",
    "              eval_metric='rmse', early_stopping_rounds=200,verbose=False)\n",
    "    y_pred_valid = model.predict(X_train_valid)\n",
    "    score = np.sqrt(mean_squared_error(y_train_valid, y_pred_valid))\n",
    "    scores.append(score)\n",
    "    print('Boxcox RMSE over the validation set: {:.3f}'.format(score))\n",
    "    i += 1\n",
    "    \n",
    "print('Boxcox RMSE score average over the validation sets: {:.3f}\\n'.format(np.mean(scores)))  \n",
    "\n",
    "y_pred_xgb = model.predict(X_test)\n",
    "score_xgb = np.sqrt(mean_squared_error(y_test, y_pred_xgb))\n",
    "print('XGBoost boxcox RMSE score over the test set: {:.3f}\\n'.format(score_xgb))\n",
    "\n",
    "y_test_inv = inv_boxcox(y_test, wage_boxcox[1])\n",
    "y_pred_xgb_inv = inv_boxcox(y_pred_xgb, wage_boxcox[1])\n",
    "\n",
    "fig,ax = plt.subplots(figsize=(15,5),nrows=1,ncols=2)\n",
    "sns.histplot((y_pred_xgb_inv - y_test_inv),ax=ax[0])\n",
    "sns.histplot((y_pred_xgb_inv - y_test_inv)/y_test_inv,ax=ax[1])\n",
    "ax[0].set_xlabel('Wage error')\n",
    "ax[0].set_xlim([-50000,50000])\n",
    "ax[1].set_xlabel('Wage relative error')\n",
    "plt.show()"
   ]
  },
  {
   "cell_type": "markdown",
   "metadata": {},
   "source": [
    "The result is not very different from what we obtained after the log transformation. Since it is easier to interpret (and invert) a log transformation we will not use the boxcox anymore."
   ]
  },
  {
   "cell_type": "code",
   "execution_count": 27,
   "metadata": {},
   "outputs": [
    {
     "name": "stdout",
     "output_type": "stream",
     "text": [
      "RMSE of all players wage: 20599.591104751766\n",
      "RMSE of players with wage higher than 10000 euros is: 20526.572890368898\n",
      "RMSE of players with wage higher than 20000 euros is: 20449.895931664825\n",
      "RMSE of players with wage higher than 50000 euros is: 19839.092214353863\n",
      "RMSE of players with wage higher than 100000 euros is: 18515.302850497723\n"
     ]
    }
   ],
   "source": [
    "def partial_RMSE(y,y_pred,min_wage):\n",
    "    partial_SE = 0\n",
    "    for i in range(len(y)):\n",
    "        if y.tolist()[i] >= min_wage:\n",
    "            partial_SE += (y.tolist()[i] - list(y_pred)[i])**2\n",
    "    return np.sqrt(partial_SE/len(y_test_inv))\n",
    "\n",
    "print('RMSE of all players wage: {}'.format(partial_RMSE(y_test_inv,y_pred_xgb_inv,0)))\n",
    "print('RMSE of players with wage higher than 10000 euros is: {}'.format(partial_RMSE(y_test_inv,y_pred_xgb_inv,10000)))\n",
    "print('RMSE of players with wage higher than 20000 euros is: {}'.format(partial_RMSE(y_test_inv,y_pred_xgb_inv,20000)))\n",
    "print('RMSE of players with wage higher than 50000 euros is: {}'.format(partial_RMSE(y_test_inv,y_pred_xgb_inv,50000)))\n",
    "print('RMSE of players with wage higher than 100000 euros is: {}'.format(partial_RMSE(y_test_inv,y_pred_xgb_inv,100000)))"
   ]
  },
  {
   "cell_type": "code",
   "execution_count": 28,
   "metadata": {},
   "outputs": [
    {
     "data": {
      "text/plain": [
       "[[129999.99999999543, 20774.01],\n",
       " [69999.99999999846, 20496.031],\n",
       " [55000.00000000093, 17073.49],\n",
       " [84999.99999999758, 20643.914],\n",
       " [84999.99999999758, 18606.248]]"
      ]
     },
     "execution_count": 28,
     "metadata": {},
     "output_type": "execute_result"
    }
   ],
   "source": [
    "wages_vs_predictions = []\n",
    "for i in range(len(y_test_inv)):\n",
    "    if y_test_inv.tolist()[i] >= 50000:\n",
    "        wages_vs_predictions.append([y_test_inv.tolist()[i],list(y_pred_xgb_inv)[i]])\n",
    "        \n",
    "wages_vs_predictions[:5]"
   ]
  },
  {
   "cell_type": "markdown",
   "metadata": {},
   "source": [
    "There are some very undesirable predictions for high quality players, as we can see above. Let's investigate further the reason for that."
   ]
  },
  {
   "cell_type": "code",
   "execution_count": 29,
   "metadata": {},
   "outputs": [
    {
     "data": {
      "image/png": "[encoded data removed]",
      "text/plain": [
       "<Figure size 432x288 with 1 Axes>"
      ]
     },
     "metadata": {
      "needs_background": "light"
     },
     "output_type": "display_data"
    }
   ],
   "source": [
    "players_df_wage[players_df_wage['wage']<2000]['wage'].hist(bins=20)\n",
    "plt.show()"
   ]
  },
  {
   "cell_type": "markdown",
   "metadata": {},
   "source": [
    "There are more than 5000 players with a wage of 1500 euros!"
   ]
  },
  {
   "cell_type": "code",
   "execution_count": 30,
   "metadata": {},
   "outputs": [
    {
     "name": "stdout",
     "output_type": "stream",
     "text": [
      "number of players with a wage of less than 10000 euros: 14932\n"
     ]
    },
    {
     "data": {
      "image/png": "[encoded data removed]",
      "text/plain": [
       "<Figure size 432x288 with 1 Axes>"
      ]
     },
     "metadata": {
      "needs_background": "light"
     },
     "output_type": "display_data"
    }
   ],
   "source": [
    "print('number of players with a wage of less than 10000 euros: {}'.format(players_df_wage[players_df_wage['wage']<10000].shape[0]))\n",
    "players_df_wage[(players_df_wage['wage']<10000)&(players_df_wage['wage']>1500)]['wage'].hist(bins=40)\n",
    "plt.show()"
   ]
  },
  {
   "cell_type": "markdown",
   "metadata": {},
   "source": [
    "Almost all of our data is of players that we are actually not very interested for our app. In general, a career mode player is more interested in hiring more valuable professional players. Maybe by randomly deleting a substantial amount of these low quality players (i.e., doing a kind of [undersampling](https://en.wikipedia.org/wiki/Oversampling_and_undersampling_in_data_analysis)) we can make the model focus more on the other players. We shall also [oversample](https://machinelearningmastery.com/random-oversampling-and-undersampling-for-imbalanced-classification/#:~:text=Random%20undersampling%20involves%20randomly%20selecting,more%20balanced%20distribution%20is%20reached) the high quality players."
   ]
  },
  {
   "cell_type": "code",
   "execution_count": 31,
   "metadata": {},
   "outputs": [],
   "source": [
    "players_df_wage['wage_range'] = 0\n",
    "players_df_wage.loc[(players_df_wage['wage'] > 1500)&(players_df_wage['wage'] <= 3000),'wage_range'] = 1\n",
    "players_df_wage.loc[(players_df_wage['wage'] > 3000)&(players_df_wage['wage'] <= 6000),'wage_range'] = 2\n",
    "players_df_wage.loc[(players_df_wage['wage'] > 6000)&(players_df_wage['wage'] <= 10000),'wage_range'] = 3\n",
    "players_df_wage.loc[(players_df_wage['wage'] > 10000)&(players_df_wage['wage'] <= 20000),'wage_range'] = 4\n",
    "players_df_wage.loc[(players_df_wage['wage'] > 20000)&(players_df_wage['wage'] <= 30000),'wage_range'] = 5\n",
    "players_df_wage.loc[(players_df_wage['wage'] > 30000)&(players_df_wage['wage'] <= 50000),'wage_range'] = 6\n",
    "players_df_wage.loc[(players_df_wage['wage'] > 50000)&(players_df_wage['wage'] <= 100000),'wage_range'] = 7\n",
    "players_df_wage.loc[players_df_wage['wage'] > 100000,'wage_range'] = 8"
   ]
  },
  {
   "cell_type": "code",
   "execution_count": 32,
   "metadata": {},
   "outputs": [
    {
     "data": {
      "text/plain": [
       "0    5037\n",
       "1    4262\n",
       "2    3734\n",
       "4    2101\n",
       "3    1987\n",
       "5     897\n",
       "6     727\n",
       "7     345\n",
       "8     160\n",
       "Name: wage_range, dtype: int64"
      ]
     },
     "execution_count": 32,
     "metadata": {},
     "output_type": "execute_result"
    }
   ],
   "source": [
    "# Number of players in each range of sallary\n",
    "players_df_wage['wage_range'].value_counts()"
   ]
  },
  {
   "cell_type": "code",
   "execution_count": 33,
   "metadata": {},
   "outputs": [],
   "source": [
    "# Undersampling\n",
    "players_df_wage = players_df_wage.drop(players_df_wage[players_df_wage['wage_range'] == 0].sample(frac=.995,random_state = 42).index)\n",
    "players_df_wage = players_df_wage.drop(players_df_wage[players_df_wage['wage_range'] == 1].sample(frac=.95,random_state = 42).index)\n",
    "players_df_wage = players_df_wage.drop(players_df_wage[players_df_wage['wage_range'] == 2].sample(frac=.9,random_state = 42).index)\n",
    "players_df_wage = players_df_wage.drop(players_df_wage[players_df_wage['wage_range'] == 3].sample(frac=.6,random_state = 42).index)\n",
    "players_df_wage = players_df_wage.drop(players_df_wage[players_df_wage['wage_range'] == 4].sample(frac=.5,random_state = 42).index)"
   ]
  },
  {
   "cell_type": "code",
   "execution_count": 34,
   "metadata": {},
   "outputs": [],
   "source": [
    "# Oversampling\n",
    "sample_wage7 = players_df_wage[players_df_wage['wage_range'] == 7].sample(frac=0.5,random_state = 42,replace=True)\n",
    "sample_wage8 = players_df_wage[players_df_wage['wage_range'] == 8].sample(frac=0.5,random_state = 42,replace=True)\n",
    "players_df_wage = pd.concat([players_df_wage,sample_wage7,sample_wage8])"
   ]
  },
  {
   "cell_type": "code",
   "execution_count": 35,
   "metadata": {},
   "outputs": [
    {
     "data": {
      "text/plain": [
       "4    1051\n",
       "5     897\n",
       "3     795\n",
       "6     727\n",
       "7     517\n",
       "2     373\n",
       "8     240\n",
       "1     213\n",
       "0      25\n",
       "Name: wage_range, dtype: int64"
      ]
     },
     "execution_count": 35,
     "metadata": {},
     "output_type": "execute_result"
    }
   ],
   "source": [
    "players_df_wage['wage_range'].value_counts()"
   ]
  },
  {
   "cell_type": "code",
   "execution_count": 36,
   "metadata": {},
   "outputs": [
    {
     "name": "stdout",
     "output_type": "stream",
     "text": [
      "wage skewness: 4.122\n"
     ]
    },
    {
     "data": {
      "image/png": "[encoded data removed]",
      "text/plain": [
       "<Figure size 432x288 with 1 Axes>"
      ]
     },
     "metadata": {
      "needs_background": "light"
     },
     "output_type": "display_data"
    }
   ],
   "source": [
    "players_df_wage['wage'].hist(bins=100)\n",
    "print(\"wage skewness: {:.3f}\".format(players_df_wage['wage'].skew()))\n",
    "plt.show()"
   ]
  },
  {
   "cell_type": "code",
   "execution_count": 37,
   "metadata": {},
   "outputs": [
    {
     "name": "stdout",
     "output_type": "stream",
     "text": [
      "wage skewness: -0.015\n"
     ]
    },
    {
     "data": {
      "image/png": "[encoded data removed]",
      "text/plain": [
       "<Figure size 432x288 with 1 Axes>"
      ]
     },
     "metadata": {
      "needs_background": "light"
     },
     "output_type": "display_data"
    }
   ],
   "source": [
    "players_df_wage['wage_log'].hist(bins=50)\n",
    "print(\"wage skewness: {:.3f}\".format(players_df_wage['wage_log'].skew()))\n",
    "plt.show()"
   ]
  },
  {
   "cell_type": "markdown",
   "metadata": {},
   "source": [
    "We were able to drastically reduce skewness. Let's hope for the best now."
   ]
  },
  {
   "cell_type": "code",
   "execution_count": 38,
   "metadata": {},
   "outputs": [
    {
     "name": "stdout",
     "output_type": "stream",
     "text": [
      "Training the model using fold number 1...\n",
      "RMSLE over the validation set: 0.511\n",
      "Training the model using fold number 2...\n",
      "RMSLE over the validation set: 0.506\n",
      "Training the model using fold number 3...\n",
      "RMSLE over the validation set: 0.482\n",
      "Training the model using fold number 4...\n",
      "RMSLE over the validation set: 0.486\n",
      "Training the model using fold number 5...\n",
      "RMSLE over the validation set: 0.517\n",
      "RMSLE score average over the validation sets: 0.500\n",
      "\n",
      "XGBoost RMSLE score over the test set: 0.475\n",
      "\n"
     ]
    },
    {
     "data": {
      "image/png": "[encoded data removed]",
      "text/plain": [
       "<Figure size 1080x360 with 2 Axes>"
      ]
     },
     "metadata": {
      "needs_background": "light"
     },
     "output_type": "display_data"
    }
   ],
   "source": [
    "X_train, X_test, y_train, y_test = train_test_split(players_df_wage.drop(columns=['wage','wage_log','wage_boxcox','wage_range']),players_df_wage['wage_log'],\\\n",
    "                                                    test_size=0.2,random_state=42)\n",
    "params = {'n_estimators': 1000,\n",
    "          'min_child_weight': 1,\n",
    "          'max_depth': 5,\n",
    "          'learning_rate': 0.05,\n",
    "          \"eval_metric\": 'rmse',\n",
    "          'alpha': 3,\n",
    "          'lambda': 3,\n",
    "          'subsample': 0.8,\n",
    "          'colsample_bytree': 0.8,\n",
    "          'scale_pos_weight': 1,\n",
    "          'seed': 27\n",
    "         }\n",
    "\n",
    "n_splits = 5\n",
    "kf = KFold(n_splits=n_splits,shuffle=True)\n",
    "kf.get_n_splits(X_train, y_train)\n",
    "\n",
    "scores = []\n",
    "i = 1\n",
    "for train_index, valid_index in kf.split(X_train, y_train):\n",
    "    print('Training the model using fold number {}...'.format(i))\n",
    "    X_train_train, X_train_valid = X_train.iloc[train_index,:], X_train.iloc[valid_index,:]\n",
    "    y_train_train, y_train_valid = y_train.iloc[train_index], y_train.iloc[valid_index]\n",
    "\n",
    "    model = xgb.XGBRegressor(**params)\n",
    "    model.fit(X_train_train, y_train_train,eval_set=[(X_train_train, y_train_train), (X_train_valid, y_train_valid)],\\\n",
    "              eval_metric='rmse', early_stopping_rounds=200,verbose=False)\n",
    "    y_pred_valid = model.predict(X_train_valid)\n",
    "    score = np.sqrt(mean_squared_error(y_train_valid, y_pred_valid))\n",
    "    scores.append(score)\n",
    "    print('RMSLE over the validation set: {:.3f}'.format(score))\n",
    "    i += 1\n",
    "    \n",
    "print('RMSLE score average over the validation sets: {:.3f}\\n'.format(np.mean(scores)))  \n",
    "\n",
    "y_pred_xgb = model.predict(X_test)\n",
    "score_xgb = np.sqrt(mean_squared_error(y_test, y_pred_xgb))\n",
    "print('XGBoost RMSLE score over the test set: {:.3f}\\n'.format(score_xgb))\n",
    "\n",
    "y_test_inv = np.expm1(y_test)\n",
    "y_pred_xgb_inv = np.expm1(y_pred_xgb)\n",
    "\n",
    "fig,ax = plt.subplots(figsize=(15,5),nrows=1,ncols=2)\n",
    "sns.histplot((y_pred_xgb_inv - y_test_inv),ax=ax[0])\n",
    "sns.histplot((y_pred_xgb_inv - y_test_inv)/y_test_inv,ax=ax[1])\n",
    "ax[0].set_xlabel('Wage error')\n",
    "ax[0].set_xlim([-50000,50000])\n",
    "ax[1].set_xlabel('Wage relative error')\n",
    "plt.show()"
   ]
  },
  {
   "cell_type": "code",
   "execution_count": 39,
   "metadata": {},
   "outputs": [
    {
     "name": "stdout",
     "output_type": "stream",
     "text": [
      "RMSE of all players wage: 22682.402923346195\n",
      "RMSE of players with wage higher than 10000 euros is: 22504.295640815264\n",
      "RMSE of players with wage higher than 20000 euros is: 22116.91582195013\n",
      "RMSE of players with wage higher than 50000 euros is: 20260.138657037656\n",
      "RMSE of players with wage higher than 100000 euros is: 18724.570245073\n"
     ]
    }
   ],
   "source": [
    "print('RMSE of all players wage: {}'.format(partial_RMSE(y_test_inv,y_pred_xgb_inv,0)))\n",
    "print('RMSE of players with wage higher than 10000 euros is: {}'.format(partial_RMSE(y_test_inv,y_pred_xgb_inv,10000)))\n",
    "print('RMSE of players with wage higher than 20000 euros is: {}'.format(partial_RMSE(y_test_inv,y_pred_xgb_inv,20000)))\n",
    "print('RMSE of players with wage higher than 50000 euros is: {}'.format(partial_RMSE(y_test_inv,y_pred_xgb_inv,50000)))\n",
    "print('RMSE of players with wage higher than 100000 euros is: {}'.format(partial_RMSE(y_test_inv,y_pred_xgb_inv,100000)))"
   ]
  },
  {
   "cell_type": "markdown",
   "metadata": {},
   "source": [
    "The fact that the RMSLE over the validation sets has increased is not an indicator that our model is performing worse than before. This is because now we have less data about low quality players, hence the errors on the other players have a bigger impact on the final score. Yet, notice (by the partial RMSE scores) how the model performs a little bit better on high quality players now. However, the results aren't good enough yet."
   ]
  },
  {
   "cell_type": "code",
   "execution_count": 40,
   "metadata": {},
   "outputs": [
    {
     "data": {
      "text/plain": [
       "[[60000.000000000015, 38791.746],\n",
       " [120000.00000000004, 51542.363],\n",
       " [75000.00000000004, 43986.63],\n",
       " [159999.99999999997, 105020.48],\n",
       " [80000.0, 52562.723]]"
      ]
     },
     "execution_count": 40,
     "metadata": {},
     "output_type": "execute_result"
    }
   ],
   "source": [
    "wages_vs_predictions = []\n",
    "for i in range(len(y_test_inv)):\n",
    "    if y_test_inv.tolist()[i] >= 50000:\n",
    "        wages_vs_predictions.append([y_test_inv.tolist()[i],list(y_pred_xgb_inv)[i]])\n",
    "        \n",
    "wages_vs_predictions[:5]"
   ]
  },
  {
   "cell_type": "markdown",
   "metadata": {},
   "source": [
    "Well, it seems that undersampling and oversampling the data is not very helpful. The problem is that we have very few data of players with higher wages, so there is not too much that we can do about it. Perhaps by doing some feature engineering we can improve our results a little bit."
   ]
  },
  {
   "cell_type": "markdown",
   "metadata": {},
   "source": [
    "# 2.3 - Feature engineering"
   ]
  },
  {
   "cell_type": "markdown",
   "metadata": {},
   "source": [
    "After thinking for a while, I decided to create some new features, that can be understood from the code below."
   ]
  },
  {
   "cell_type": "code",
   "execution_count": 41,
   "metadata": {},
   "outputs": [],
   "source": [
    "# Features given by the mean of each block of attributes\n",
    "ball_skills = ['ball_control','dribbling']\n",
    "defence = ['marking','side_tackle','stand_tackle']\n",
    "mental = ['aggression','reactions','att_position','interceptions','vision','composure']\n",
    "passing = ['crossing', 'short_pass', 'long_pass']\n",
    "physical = ['acceleration', 'stamina', 'strength', 'balance', 'sprint_speed', 'agility', 'jumping']\n",
    "shooting = ['heading', 'shot_power', 'finishing', 'long_shot', 'curve', 'fk_acc', 'penalties', 'volleys']\n",
    "goalkeeper = ['gk_positioning', 'gk_diving', 'gk_handling', 'gk_kicking', 'gk_reflexes']\n",
    "\n",
    "players_df_wage['ball_skills'] = players_df_wage[ball_skills].mean(axis=1)\n",
    "players_df_wage['defence'] = players_df_wage[defence].mean(axis=1)\n",
    "players_df_wage['mental'] = players_df_wage[mental].mean(axis=1)\n",
    "players_df_wage['passing'] = players_df_wage[passing].mean(axis=1)\n",
    "players_df_wage['physical'] = players_df_wage[physical].mean(axis=1)\n",
    "players_df_wage['shooting'] = players_df_wage[shooting].mean(axis=1)\n",
    "players_df_wage['goalkeeper'] = players_df_wage[goalkeeper].mean(axis=1)\n",
    "\n",
    "# Body mass index of players\n",
    "players_df_wage['bmi'] = players_df['weight']/(players_df['height']/100)**2\n",
    "\n",
    "# Number of specialities and traits\n",
    "specialities = ['Dribbler','Distance_Shooter','Crosser','FK_Specialist','Acrobat','Clinical_Finisher','Speedster','Playmaker','Strength',\\\n",
    "               'Complete_Midfielder','Complete_Forward','Complete_Defender','Tackling','Tactician','Poacher','Aerial_Threat','Engine']\n",
    "\n",
    "players_df_wage['number_specialities_traits'] = players_df_wage[specialities_traits_categories].sum(axis=1) -1\n",
    "players_df_wage['number_specialities'] = players_df_wage[specialities].sum(axis=1)\n",
    "players_df_wage['number_traits'] = players_df_wage['number_specialities_traits'] - players_df_wage['number_specialities']\n",
    "\n",
    "# Number of positions that the player can play\n",
    "players_df_wage['number_preferred_positions'] = players_df_wage[preferred_positions_categories].sum(axis=1)\n",
    "\n",
    "# Number of attributes above a certain threshold\n",
    "attributes = ball_skills + defence + mental + passing + physical + shooting + goalkeeper\n",
    "players_df_wage['number_attributes_greater_95'] = (players_df_wage[attributes]>=95).sum(axis=1)\n",
    "players_df_wage['number_attributes_greater_90'] = (players_df_wage[attributes]>=90).sum(axis=1)\n",
    "players_df_wage['number_attributes_greater_85'] = (players_df_wage[attributes]>=85).sum(axis=1)\n",
    "players_df_wage['number_attributes_greater_80'] = (players_df_wage[attributes]>=80).sum(axis=1)\n",
    "players_df_wage['number_attributes_greater_75'] = (players_df_wage[attributes]>=75).sum(axis=1)\n",
    "players_df_wage['number_attributes_greater_70'] = (players_df_wage[attributes]>=70).sum(axis=1)\n",
    "\n",
    "# Number of attributes within a certain range\n",
    "players_df_wage['number_attributes_greater_90_less_95'] = players_df_wage['number_attributes_greater_90'] - players_df_wage['number_attributes_greater_95']\n",
    "players_df_wage['number_attributes_greater_85_less_90'] = players_df_wage['number_attributes_greater_85'] - players_df_wage['number_attributes_greater_90']\n",
    "players_df_wage['number_attributes_greater_80_less_85'] = players_df_wage['number_attributes_greater_80'] - players_df_wage['number_attributes_greater_85']\n",
    "players_df_wage['number_attributes_greater_75_less_80'] = players_df_wage['number_attributes_greater_75'] - players_df_wage['number_attributes_greater_80']\n",
    "players_df_wage['number_attributes_greater_70_less_75'] = players_df_wage['number_attributes_greater_70'] - players_df_wage['number_attributes_greater_75']"
   ]
  },
  {
   "cell_type": "markdown",
   "metadata": {},
   "source": [
    "Edit: For our application, it is not convenient to ask the user to fill so many information that turns out being not very useful to the model (See section 4). Thus, we drop all traits features (the specialities will not be dropped since they are important to the predictions and [can be obtained from the player's attributes](https://www.fifauteam.com/fifa-20-traits-specialities-guide/))."
   ]
  },
  {
   "cell_type": "code",
   "execution_count": 43,
   "metadata": {},
   "outputs": [],
   "source": [
    "traits = list(set(specialities_traits_categories) - set(specialities))\n",
    "players_df_wage = players_df_wage.drop(columns=traits+['number_specialities_traits','number_traits'])"
   ]
  },
  {
   "cell_type": "code",
   "execution_count": 47,
   "metadata": {},
   "outputs": [
    {
     "data": {
      "image/png": "[encoded data removed]",
      "text/plain": [
       "<Figure size 1296x1080 with 2 Axes>"
      ]
     },
     "metadata": {
      "needs_background": "light"
     },
     "output_type": "display_data"
    }
   ],
   "source": [
    "fig,ax = plt.subplots(1,1,figsize=(18,15))\n",
    "sns.heatmap(players_df_wage.drop(columns=specialities+preferred_positions_categories).corr(),ax=ax)\n",
    "plt.show()"
   ]
  },
  {
   "cell_type": "markdown",
   "metadata": {},
   "source": [
    "Some of the new features we just defined are highly correlated with wage. However, they are also highly correlated with overall, so that maybe we do not achieve a big improvement with those features."
   ]
  },
  {
   "cell_type": "code",
   "execution_count": 48,
   "metadata": {
    "scrolled": true
   },
   "outputs": [
    {
     "name": "stdout",
     "output_type": "stream",
     "text": [
      "Training the model using fold number 1...\n",
      "RMSLE: 0.496\n",
      "Training the model using fold number 2...\n",
      "RMSLE: 0.502\n",
      "Training the model using fold number 3...\n",
      "RMSLE: 0.505\n",
      "Training the model using fold number 4...\n",
      "RMSLE: 0.496\n",
      "Training the model using fold number 5...\n",
      "RMSLE: 0.510\n",
      "RMSLE score over the validation sets: 0.502\n",
      "\n"
     ]
    },
    {
     "data": {
      "image/png": "[encoded data removed]",
      "text/plain": [
       "<Figure size 720x720 with 1 Axes>"
      ]
     },
     "metadata": {
      "needs_background": "light"
     },
     "output_type": "display_data"
    }
   ],
   "source": [
    "X_train, X_test, y_train, y_test = train_test_split(players_df_wage.drop(columns=['wage','wage_boxcox','wage_log','wage_range']),\\\n",
    "                                                    players_df_wage['wage_log'], test_size=0.2,random_state=42,\\\n",
    "                                                    stratify=players_df_wage['wage_range'])\n",
    "\n",
    "params = {'n_estimators': 1000,\n",
    "          'min_child_weight': 1,\n",
    "          'max_depth': 5,\n",
    "          'learning_rate': 0.05,\n",
    "          \"eval_metric\": 'rmse',\n",
    "          'alpha': 3,\n",
    "          'lambda': 3,\n",
    "          'subsample': 0.8,\n",
    "          'colsample_bytree': 0.8,\n",
    "          'scale_pos_weight': 1,\n",
    "          'seed': 27\n",
    "         }\n",
    "\n",
    "n_splits = 5\n",
    "kf = KFold(n_splits=n_splits,shuffle=True)\n",
    "splits = kf.split(X_train, y_train)\n",
    "scores = []\n",
    "i = 1\n",
    "feat_imp = pd.Series(0, index=X_train.columns)\n",
    "for train_index, valid_index in splits:\n",
    "    print('Training the model using fold number {}...'.format(i))\n",
    "    X_train_train, X_train_valid = X_train.iloc[train_index,:], X_train.iloc[valid_index,:]\n",
    "    y_train_train, y_train_valid = y_train.iloc[train_index], y_train.iloc[valid_index]\n",
    "\n",
    "    model = xgb.XGBRegressor(**params)\n",
    "    model.fit(X_train_train, y_train_train,eval_set=[(X_train_valid, y_train_valid)],\\\n",
    "              eval_metric='rmse', early_stopping_rounds=100,verbose=False)\n",
    "    y_pred_valid = model.predict(X_train_valid)\n",
    "    feat_imp += pd.Series(model.feature_importances_, index=X_train.columns)/n_splits\n",
    "    score = np.sqrt(mean_squared_error(y_train_valid, y_pred_valid))\n",
    "    scores.append(score)\n",
    "    print('RMSLE: {:.3f}'.format(score))\n",
    "    i += 1\n",
    "    \n",
    "print('RMSLE score over the validation sets: {:.3f}\\n'.format(np.mean(scores)))\n",
    "\n",
    "fig,ax = plt.subplots(figsize=(10,10))\n",
    "_ = feat_imp.nlargest(20).sort_values().plot(kind='barh',ax=ax)\n",
    "_ = ax.set_xlabel('Average importance (a.u.)')\n",
    "_ = ax.set_ylabel('Features')\n",
    "plt.show()"
   ]
  },
  {
   "cell_type": "markdown",
   "metadata": {},
   "source": [
    "There was a very small improvement, which may not be significantly. Still, let's see if we can achieve better results by doing some hyperparameter tuning."
   ]
  },
  {
   "cell_type": "markdown",
   "metadata": {},
   "source": [
    "# 2.4 - Model tuning"
   ]
  },
  {
   "cell_type": "markdown",
   "metadata": {},
   "source": [
    "Tuning a gradient boost regressor is not an easy task due to the [large amount of hyperparameters](https://xgboost.readthedocs.io/en/latest/parameter.html). Here we follow [this guide](https://www.analyticsvidhya.com/blog/2016/03/complete-guide-parameter-tuning-xgboost-with-codes-python/), which establishes an order based on the relevance / priority of each parameter."
   ]
  },
  {
   "cell_type": "code",
   "execution_count": 37,
   "metadata": {},
   "outputs": [
    {
     "name": "stdout",
     "output_type": "stream",
     "text": [
      "{'min_child_weight': 3, 'max_depth': 6, 'score': 0.4944217776400229}\n"
     ]
    }
   ],
   "source": [
    "def get_xgb_score(params,X_train,y_train):\n",
    "    \n",
    "    n_splits = 5\n",
    "    kf = KFold(n_splits=n_splits,shuffle=True)\n",
    "    splits = kf.split(X_train, y_train)\n",
    "\n",
    "    scores = []\n",
    "    i = 1\n",
    "    for train_index, valid_index in splits:\n",
    "        print('Training the model using fold number {}...'.format(i))\n",
    "        X_train_train, X_train_valid = X_train.iloc[train_index,:], X_train.iloc[valid_index,:]\n",
    "        y_train_train, y_train_valid = y_train.iloc[train_index], y_train.iloc[valid_index]\n",
    "\n",
    "        model = xgb.XGBRegressor(**params)\n",
    "        model.fit(X_train_train, y_train_train,eval_set=[(X_train_valid, y_train_valid)],\\\n",
    "                  eval_metric='rmse', early_stopping_rounds=100,verbose=False)\n",
    "        y_pred_valid = model.predict(X_train_valid)\n",
    "        score = np.sqrt(mean_squared_error(y_train_valid, y_pred_valid))\n",
    "        scores.append(score)\n",
    "        print('RMSLE: {:.3f}'.format(score))\n",
    "        i += 1\n",
    "        \n",
    "    rmsle = np.mean(scores)\n",
    "    return rmsle\n",
    "    \n",
    "rmsle = 100\n",
    "best_params = {'min_child_weight': 1, 'max_depth': 5, 'score': rmsle}\n",
    "\n",
    "for max_depth in range(4,7):\n",
    "    for min_child_weight in range(1,10,2):\n",
    "        print('max_depth: {}; min_child_weight: {}'.format(max_depth,min_child_weight))\n",
    "        \n",
    "        params = {'n_estimators': 1000,\n",
    "          'min_child_weight': min_child_weight,\n",
    "          'max_depth': max_depth,\n",
    "          'learning_rate': 0.1,\n",
    "          \"eval_metric\": 'rmse',\n",
    "          'gamma': 0,\n",
    "          'alpha': 0,\n",
    "          'lambda': 1,\n",
    "          'subsample': 0.8,\n",
    "          'colsample_bytree': 0.8,\n",
    "          'scale_pos_weight': 1,\n",
    "          'seed': 27\n",
    "         } \n",
    "        \n",
    "        current_rmsle = get_xgb_score(params,X_train,y_train)\n",
    "        if current_rmsle < rmsle:\n",
    "            rmsle = current_rmsle\n",
    "            best_params = {'min_child_weight': min_child_weight, 'max_depth': max_depth, 'score': rmsle}\n",
    "        clear_output(wait=True)\n",
    "        \n",
    "print(best_params)"
   ]
  },
  {
   "cell_type": "code",
   "execution_count": 39,
   "metadata": {},
   "outputs": [
    {
     "name": "stdout",
     "output_type": "stream",
     "text": [
      "{'gamma': 0, 'score': 0.4944217776400229}\n"
     ]
    }
   ],
   "source": [
    "best_params = {'gamma': 0, 'score': rmsle}\n",
    "for gamma in [0.1,0.3,0.7,1,3,10,30,100]:\n",
    "    print('gamma: {}'.format(gamma))\n",
    "        \n",
    "    params = {'n_estimators': 1000,\n",
    "        'min_child_weight': 3,\n",
    "        'max_depth': 6,\n",
    "        'learning_rate': 0.1,\n",
    "        \"eval_metric\": 'rmse',\n",
    "        'gamma': gamma,\n",
    "        'alpha': 0,\n",
    "        'lambda': 1,\n",
    "        'subsample': 0.8,\n",
    "        'colsample_bytree': 0.8,\n",
    "        'scale_pos_weight': 1,\n",
    "        'seed': 27\n",
    "        } \n",
    "        \n",
    "    current_rmsle = get_xgb_score(params,X_train,y_train)\n",
    "    if current_rmsle < rmsle:\n",
    "        rmsle = current_rmsle\n",
    "        best_params = {'gamma': gamma, 'score': rmsle}\n",
    "    clear_output(wait=True)\n",
    "        \n",
    "print(best_params)"
   ]
  },
  {
   "cell_type": "code",
   "execution_count": 41,
   "metadata": {},
   "outputs": [
    {
     "name": "stdout",
     "output_type": "stream",
     "text": [
      "{'subsample': 0.8, 'colsample_bytree': 0.8, 'score': 0.4930341361496092}\n"
     ]
    }
   ],
   "source": [
    "best_params = {'subsample': 0.8, 'colsample_bytree': 0.8, 'score': rmsle}\n",
    "\n",
    "for subsample in [i/10.0 for i in range(6,11)]:\n",
    "    for colsample_bytree in [i/10.0 for i in range(6,11)]:\n",
    "        print('subsample: {}; colsample_bytree : {}'.format(subsample,colsample_bytree ))\n",
    "        \n",
    "        params = {'n_estimators': 1000,\n",
    "          'min_child_weight': 5,\n",
    "          'max_depth': 6,\n",
    "          'learning_rate': 0.1,\n",
    "          \"eval_metric\": 'rmse',\n",
    "          'gamma': 0,\n",
    "          'alpha': 0,\n",
    "          'lambda': 1,\n",
    "          'subsample': subsample,\n",
    "          'colsample_bytree': colsample_bytree,\n",
    "          'scale_pos_weight': 1,\n",
    "          'seed': 27\n",
    "         } \n",
    "        \n",
    "        current_rmsle = get_xgb_score(params,X_train,y_train)\n",
    "        if current_rmsle < rmsle:\n",
    "            rmsle = current_rmsle\n",
    "            best_params = {'subsample': subsample, 'colsample_bytree': colsample_bytree, 'score': rmsle}\n",
    "        clear_output(wait=True)\n",
    "        \n",
    "print(best_params)"
   ]
  },
  {
   "cell_type": "code",
   "execution_count": 42,
   "metadata": {},
   "outputs": [
    {
     "name": "stdout",
     "output_type": "stream",
     "text": [
      "{'alpha': 0, 'lambda': 1, 'score': 0.4930341361496092}\n"
     ]
    }
   ],
   "source": [
    "best_params = {'alpha': 0, 'lambda': 1, 'score': rmsle}\n",
    "\n",
    "for alpha in [0,0.1,0.3,1,3,10]:\n",
    "    for Lambda in [0.3,1,3]:\n",
    "        print('alpha: {}; lambda: {}'.format(alpha,Lambda))\n",
    "        \n",
    "        params = {'n_estimators': 1000,\n",
    "          'min_child_weight': 5,\n",
    "          'max_depth': 6,\n",
    "          'learning_rate': 0.1,\n",
    "          \"eval_metric\": 'rmse',\n",
    "          'gamma': 0,\n",
    "          'alpha': alpha,\n",
    "          'lambda': Lambda,\n",
    "          'subsample': 0.9,\n",
    "          'colsample_bytree': 0.8,\n",
    "          'scale_pos_weight': 1,\n",
    "          'seed': 27\n",
    "         } \n",
    "        \n",
    "        current_rmsle = get_xgb_score(params,X_train,y_train)\n",
    "        if current_rmsle < rmsle:\n",
    "            rmsle = current_rmsle\n",
    "            best_params = {'alpha': alpha, 'Lambda': Lambda, 'score': rmsle}\n",
    "        clear_output(wait=True)\n",
    "        \n",
    "print(best_params)"
   ]
  },
  {
   "cell_type": "code",
   "execution_count": 43,
   "metadata": {},
   "outputs": [
    {
     "name": "stdout",
     "output_type": "stream",
     "text": [
      "Training the model using fold number 1...\n",
      "RMSLE: 0.474\n",
      "Training the model using fold number 2...\n",
      "RMSLE: 0.482\n",
      "Training the model using fold number 3...\n",
      "RMSLE: 0.490\n",
      "Training the model using fold number 4...\n",
      "RMSLE: 0.502\n",
      "Training the model using fold number 5...\n",
      "RMSLE: 0.493\n",
      "RMSLE with more estimators: 0.4882261046520998\n"
     ]
    }
   ],
   "source": [
    "params = {'n_estimators': 5000,\n",
    "          'min_child_weight': 5,\n",
    "          'max_depth': 6,\n",
    "          'learning_rate': 0.01,\n",
    "          \"eval_metric\": 'rmse',\n",
    "          'gamma': 0,\n",
    "          'alpha': 0,\n",
    "          'lambda': 1,\n",
    "          'subsample': 0.9,\n",
    "          'colsample_bytree': 0.8,\n",
    "          'scale_pos_weight': 1,\n",
    "          'seed': 27\n",
    "         } \n",
    "\n",
    "print('RMSLE with more estimators: {}'.format(get_xgb_score(params,X_train,y_train)))"
   ]
  },
  {
   "cell_type": "code",
   "execution_count": 45,
   "metadata": {},
   "outputs": [
    {
     "name": "stdout",
     "output_type": "stream",
     "text": [
      "XGBoost RMSLE score over the training set: 0.042\n",
      "\n",
      "XGBoost RMSLE score over the test set: 0.480\n",
      "\n"
     ]
    },
    {
     "data": {
      "image/png": "[encoded data removed]",
      "text/plain": [
       "<Figure size 1080x360 with 2 Axes>"
      ]
     },
     "metadata": {
      "needs_background": "light"
     },
     "output_type": "display_data"
    }
   ],
   "source": [
    "model = xgb.XGBRegressor(**params)\n",
    "model.fit(X_train, y_train, eval_set=[(X_train,y_train)], eval_metric='rmse', early_stopping_rounds=100,verbose=False)\n",
    " \n",
    "\n",
    "    \n",
    "y_pred_train = model.predict(X_train)\n",
    "train_rmsle = np.sqrt(mean_squared_error(y_train, y_pred_train))\n",
    "print('XGBoost RMSLE score over the training set: {:.3f}\\n'.format(train_rmsle))    \n",
    "    \n",
    "y_pred_test = model.predict(X_test)\n",
    "test_rmsle = np.sqrt(mean_squared_error(y_test, y_pred_test))\n",
    "print('XGBoost RMSLE score over the test set: {:.3f}\\n'.format(test_rmsle))\n",
    "\n",
    "y_test_inv = np.expm1(y_test)\n",
    "y_pred_test_inv = np.expm1(y_pred_test)\n",
    "\n",
    "fig,ax = plt.subplots(figsize=(15,5),nrows=1,ncols=2)\n",
    "sns.histplot((y_pred_test_inv - y_test_inv),ax=ax[0])\n",
    "sns.histplot((y_pred_test_inv - y_test_inv)/y_test_inv,ax=ax[1])\n",
    "ax[0].set_xlabel('Wage error')\n",
    "ax[0].set_xlim([-50000,50000])\n",
    "ax[1].set_xlabel('Wage relative error')\n",
    "plt.show()"
   ]
  },
  {
   "cell_type": "markdown",
   "metadata": {},
   "source": [
    "The model overfits the training set, however, that should not be a problem, as discussed in [this topic](https://stats.stackexchange.com/questions/204489/discussion-about-overfit-in-xgboost)"
   ]
  },
  {
   "cell_type": "code",
   "execution_count": 46,
   "metadata": {},
   "outputs": [
    {
     "name": "stdout",
     "output_type": "stream",
     "text": [
      "RMSE of all players wage: 17730.144466813264\n",
      "RMSE of players with wage higher than 10000 euros is: 17526.77716891368\n",
      "RMSE of players with wage higher than 20000 euros is: 17027.650813783173\n",
      "RMSE of players with wage higher than 50000 euros is: 15199.958671531474\n",
      "RMSE of players with wage higher than 100000 euros is: 13946.759514480169\n"
     ]
    }
   ],
   "source": [
    "print('RMSE of all players wage: {}'.format(partial_RMSE(y_test_inv,y_pred_test_inv,0)))\n",
    "print('RMSE of players with wage higher than 10000 euros is: {}'.format(partial_RMSE(y_test_inv,y_pred_test_inv,10000)))\n",
    "print('RMSE of players with wage higher than 20000 euros is: {}'.format(partial_RMSE(y_test_inv,y_pred_test_inv,20000)))\n",
    "print('RMSE of players with wage higher than 50000 euros is: {}'.format(partial_RMSE(y_test_inv,y_pred_test_inv,50000)))\n",
    "print('RMSE of players with wage higher than 100000 euros is: {}'.format(partial_RMSE(y_test_inv,y_pred_test_inv,100000)))"
   ]
  },
  {
   "cell_type": "code",
   "execution_count": 47,
   "metadata": {},
   "outputs": [
    {
     "data": {
      "text/plain": [
       "[[75000.00000000004, 71343.73],\n",
       " [50000.000000000015, 45260.11],\n",
       " [134999.99999999997, 77896.36],\n",
       " [60000.000000000015, 59492.188],\n",
       " [189999.9999999999, 160677.48]]"
      ]
     },
     "execution_count": 47,
     "metadata": {},
     "output_type": "execute_result"
    }
   ],
   "source": [
    "wages_vs_predictions = []\n",
    "for i in range(len(y_test_inv)):\n",
    "    if y_test_inv.tolist()[i] >= 50000:\n",
    "        wages_vs_predictions.append([y_test_inv.tolist()[i],list(y_pred_test_inv)[i]])\n",
    "        \n",
    "wages_vs_predictions[:5]"
   ]
  },
  {
   "cell_type": "markdown",
   "metadata": {},
   "source": [
    "We were able to achieve a significantly improvement with feature engineering and hyperparameter tuning. The predictions are not perfect due to the lack of relevant data, and could be improved by getting more data from wages in career mode, instead of only using the initial wages of contracts already given initially by the game."
   ]
  },
  {
   "cell_type": "markdown",
   "metadata": {},
   "source": [
    "# 2.5 - Final model"
   ]
  },
  {
   "cell_type": "markdown",
   "metadata": {},
   "source": [
    "For our app, it is important to train the [final machine learning model](https://machinelearningmastery.com/train-final-machine-learning-model/) in the whole dataset since we have very few data. As discussed [in this topic](https://datascience.stackexchange.com/questions/33008/is-it-always-better-to-use-the-whole-dataset-to-train-the-final-model), this may pose some problems that we would only know by empirical evidence (monitoring the model in production).\n",
    "\n",
    "After retraining the model, we save it in a pickle format for later use, as described in [this video made by Ken Jee](https://www.youtube.com/watch?v=nUOh_lDMHOU&list=PL2zq7klxX5ASFejJj80ob9ZAnBHdz5O1t&index=6&t=0s&ab_channel=KenJee) and [this post on medium](https://towardsdatascience.com/productionize-a-machine-learning-model-with-flask-and-heroku-8201260503d2)."
   ]
  },
  {
   "cell_type": "code",
   "execution_count": 50,
   "metadata": {},
   "outputs": [],
   "source": [
    "params = {'n_estimators': 5000,\n",
    "          'min_child_weight': 5,\n",
    "          'max_depth': 6,\n",
    "          'learning_rate': 0.01,\n",
    "          \"eval_metric\": 'rmse',\n",
    "          'gamma': 0,\n",
    "          'alpha': 0,\n",
    "          'lambda': 1,\n",
    "          'subsample': 0.9,\n",
    "          'colsample_bytree': 0.8,\n",
    "          'scale_pos_weight': 1,\n",
    "          'seed': 27\n",
    "         } \n",
    "X = players_df_wage.drop(columns=['wage','wage_boxcox','wage_log','wage_range'])\n",
    "y = players_df_wage['wage_log']\n",
    "model = xgb.XGBRegressor(**params)\n",
    "model.fit(X, y, eval_set=[(X,y)], eval_metric='rmse', early_stopping_rounds=100,verbose=False)\n",
    "\n",
    "pickl = {'model': model}\n",
    "pickle.dump(pickl, open( 'model_logwage' + \".p\", \"wb\" ))"
   ]
  },
  {
   "cell_type": "markdown",
   "metadata": {},
   "source": [
    "# 3 - Preferred positions predictions"
   ]
  },
  {
   "cell_type": "markdown",
   "metadata": {},
   "source": [
    "# 3.1 - First model"
   ]
  },
  {
   "cell_type": "code",
   "execution_count": 146,
   "metadata": {},
   "outputs": [
    {
     "data": {
      "text/html": [
       "<div>\n",
       "<style scoped>\n",
       "    .dataframe tbody tr th:only-of-type {\n",
       "        vertical-align: middle;\n",
       "    }\n",
       "\n",
       "    .dataframe tbody tr th {\n",
       "        vertical-align: top;\n",
       "    }\n",
       "\n",
       "    .dataframe thead th {\n",
       "        text-align: right;\n",
       "    }\n",
       "</style>\n",
       "<table border=\"1\" class=\"dataframe\">\n",
       "  <thead>\n",
       "    <tr style=\"text-align: right;\">\n",
       "      <th></th>\n",
       "      <th>overall</th>\n",
       "      <th>height</th>\n",
       "      <th>weight</th>\n",
       "      <th>weak_foot</th>\n",
       "      <th>skill_moves</th>\n",
       "      <th>ball_control</th>\n",
       "      <th>dribbling</th>\n",
       "      <th>marking</th>\n",
       "      <th>side_tackle</th>\n",
       "      <th>stand_tackle</th>\n",
       "      <th>...</th>\n",
       "      <th>number_attributes_greater_90</th>\n",
       "      <th>number_attributes_greater_85</th>\n",
       "      <th>number_attributes_greater_80</th>\n",
       "      <th>number_attributes_greater_75</th>\n",
       "      <th>number_attributes_greater_70</th>\n",
       "      <th>number_attributes_greater_90_less_95</th>\n",
       "      <th>number_attributes_greater_85_less_90</th>\n",
       "      <th>number_attributes_greater_80_less_85</th>\n",
       "      <th>number_attributes_greater_75_less_80</th>\n",
       "      <th>number_attributes_greater_70_less_75</th>\n",
       "    </tr>\n",
       "  </thead>\n",
       "  <tbody>\n",
       "    <tr>\n",
       "      <th>0</th>\n",
       "      <td>94</td>\n",
       "      <td>170</td>\n",
       "      <td>72</td>\n",
       "      <td>4</td>\n",
       "      <td>4</td>\n",
       "      <td>96</td>\n",
       "      <td>97</td>\n",
       "      <td>33</td>\n",
       "      <td>26</td>\n",
       "      <td>37</td>\n",
       "      <td>...</td>\n",
       "      <td>15</td>\n",
       "      <td>18</td>\n",
       "      <td>19</td>\n",
       "      <td>21</td>\n",
       "      <td>22</td>\n",
       "      <td>9</td>\n",
       "      <td>3</td>\n",
       "      <td>1</td>\n",
       "      <td>2</td>\n",
       "      <td>1</td>\n",
       "    </tr>\n",
       "    <tr>\n",
       "      <th>1</th>\n",
       "      <td>93</td>\n",
       "      <td>187</td>\n",
       "      <td>83</td>\n",
       "      <td>4</td>\n",
       "      <td>5</td>\n",
       "      <td>92</td>\n",
       "      <td>89</td>\n",
       "      <td>28</td>\n",
       "      <td>24</td>\n",
       "      <td>32</td>\n",
       "      <td>...</td>\n",
       "      <td>9</td>\n",
       "      <td>16</td>\n",
       "      <td>20</td>\n",
       "      <td>23</td>\n",
       "      <td>24</td>\n",
       "      <td>4</td>\n",
       "      <td>7</td>\n",
       "      <td>4</td>\n",
       "      <td>3</td>\n",
       "      <td>1</td>\n",
       "    </tr>\n",
       "    <tr>\n",
       "      <th>2</th>\n",
       "      <td>92</td>\n",
       "      <td>175</td>\n",
       "      <td>68</td>\n",
       "      <td>5</td>\n",
       "      <td>5</td>\n",
       "      <td>95</td>\n",
       "      <td>96</td>\n",
       "      <td>35</td>\n",
       "      <td>29</td>\n",
       "      <td>30</td>\n",
       "      <td>...</td>\n",
       "      <td>8</td>\n",
       "      <td>17</td>\n",
       "      <td>21</td>\n",
       "      <td>21</td>\n",
       "      <td>21</td>\n",
       "      <td>5</td>\n",
       "      <td>9</td>\n",
       "      <td>4</td>\n",
       "      <td>0</td>\n",
       "      <td>0</td>\n",
       "    </tr>\n",
       "    <tr>\n",
       "      <th>3</th>\n",
       "      <td>91</td>\n",
       "      <td>193</td>\n",
       "      <td>92</td>\n",
       "      <td>3</td>\n",
       "      <td>2</td>\n",
       "      <td>77</td>\n",
       "      <td>70</td>\n",
       "      <td>93</td>\n",
       "      <td>86</td>\n",
       "      <td>93</td>\n",
       "      <td>...</td>\n",
       "      <td>6</td>\n",
       "      <td>9</td>\n",
       "      <td>12</td>\n",
       "      <td>16</td>\n",
       "      <td>19</td>\n",
       "      <td>6</td>\n",
       "      <td>3</td>\n",
       "      <td>3</td>\n",
       "      <td>4</td>\n",
       "      <td>3</td>\n",
       "    </tr>\n",
       "    <tr>\n",
       "      <th>5</th>\n",
       "      <td>91</td>\n",
       "      <td>181</td>\n",
       "      <td>70</td>\n",
       "      <td>5</td>\n",
       "      <td>4</td>\n",
       "      <td>91</td>\n",
       "      <td>87</td>\n",
       "      <td>68</td>\n",
       "      <td>53</td>\n",
       "      <td>62</td>\n",
       "      <td>...</td>\n",
       "      <td>9</td>\n",
       "      <td>13</td>\n",
       "      <td>17</td>\n",
       "      <td>22</td>\n",
       "      <td>23</td>\n",
       "      <td>9</td>\n",
       "      <td>4</td>\n",
       "      <td>4</td>\n",
       "      <td>5</td>\n",
       "      <td>1</td>\n",
       "    </tr>\n",
       "  </tbody>\n",
       "</table>\n",
       "<p>5 rows × 92 columns</p>\n",
       "</div>"
      ],
      "text/plain": [
       "   overall  height  weight  weak_foot  skill_moves  ball_control  dribbling  \\\n",
       "0       94     170      72          4            4            96         97   \n",
       "1       93     187      83          4            5            92         89   \n",
       "2       92     175      68          5            5            95         96   \n",
       "3       91     193      92          3            2            77         70   \n",
       "5       91     181      70          5            4            91         87   \n",
       "\n",
       "   marking  side_tackle  stand_tackle  ...  number_attributes_greater_90  \\\n",
       "0       33           26            37  ...                            15   \n",
       "1       28           24            32  ...                             9   \n",
       "2       35           29            30  ...                             8   \n",
       "3       93           86            93  ...                             6   \n",
       "5       68           53            62  ...                             9   \n",
       "\n",
       "   number_attributes_greater_85  number_attributes_greater_80  \\\n",
       "0                            18                            19   \n",
       "1                            16                            20   \n",
       "2                            17                            21   \n",
       "3                             9                            12   \n",
       "5                            13                            17   \n",
       "\n",
       "   number_attributes_greater_75  number_attributes_greater_70  \\\n",
       "0                            21                            22   \n",
       "1                            23                            24   \n",
       "2                            21                            21   \n",
       "3                            16                            19   \n",
       "5                            22                            23   \n",
       "\n",
       "   number_attributes_greater_90_less_95  number_attributes_greater_85_less_90  \\\n",
       "0                                     9                                     3   \n",
       "1                                     4                                     7   \n",
       "2                                     5                                     9   \n",
       "3                                     6                                     3   \n",
       "5                                     9                                     4   \n",
       "\n",
       "   number_attributes_greater_80_less_85  number_attributes_greater_75_less_80  \\\n",
       "0                                     1                                     2   \n",
       "1                                     4                                     3   \n",
       "2                                     4                                     0   \n",
       "3                                     3                                     4   \n",
       "5                                     4                                     5   \n",
       "\n",
       "   number_attributes_greater_70_less_75  \n",
       "0                                     1  \n",
       "1                                     1  \n",
       "2                                     0  \n",
       "3                                     3  \n",
       "5                                     1  \n",
       "\n",
       "[5 rows x 92 columns]"
      ]
     },
     "execution_count": 146,
     "metadata": {},
     "output_type": "execute_result"
    }
   ],
   "source": [
    "# number_preferred_positions should be dropped to avoid data leakage\n",
    "players_df_positions = players_df_wage.copy().drop(columns = ['age','wage','wage_boxcox','wage_log','wage_range','number_preferred_positions'])\n",
    "\n",
    "# We are not interesting in goalkeepers since they do not play in other positions\n",
    "players_df_positions = players_df_positions[players_df_positions['GK'] == 0].drop(columns=['GK','gk_positioning', 'gk_diving',\\\n",
    "                                                                                          'gk_handling', 'gk_kicking', 'gk_reflexes', 'goalkeeper'])\n",
    "players_df_positions.head()"
   ]
  },
  {
   "cell_type": "markdown",
   "metadata": {},
   "source": [
    "The problem of predicting the preferred positions of a player is a [multi-label classification task](https://towardsdatascience.com/journey-to-the-center-of-multi-label-classification-384c40229bff). We must predict different classes that are not mutually exclusive, in contrast to a multi-class classification problem. Our approach to the problem is by using a random forest model and the (averaged) AUC score. For multi-label classification, there are [many different metrics that can be used](https://medium.com/towards-artificial-intelligence/understanding-multi-label-classification-model-and-accuracy-metrics-1b2a8e2648ca). However, **we do not want to predict the exact labels given by  FIFA 20**. Instead, we want to use these labels to recommend other possible positions for a given player, while also getting the FIFA 20 labels right. For this reason, a metric that is based on the probability such as the AUC score is better for our purpose.\n",
    "\n",
    "We can also do some simple hyperparameter tuning right on the beginning since it not take too long in a random forest model. A good guide on the meaning of each hyperparameter and how to correctly tune them can be find [here](https://www.analyticsvidhya.com/blog/2020/03/beginners-guide-random-forest-hyperparameter-tuning/). We use GridSearchCV to accomplish that."
   ]
  },
  {
   "cell_type": "code",
   "execution_count": 148,
   "metadata": {},
   "outputs": [
    {
     "name": "stdout",
     "output_type": "stream",
     "text": [
      "Random Forest - AUC: 0.930831 using {'max_depth': None, 'min_samples_leaf': 5, 'min_samples_split': 2}\n"
     ]
    }
   ],
   "source": [
    "positions = ['RW', 'ST', 'CF', 'LW', 'CAM', 'CB', 'CM', 'CDM', 'LM', 'RB', 'RM', 'LB', 'LWB', 'RWB']\n",
    "\n",
    "X_train, X_test, y_train, y_test = train_test_split(players_df_positions.drop(columns=positions),players_df_positions[positions],\\\n",
    "                                                    test_size=0.2,random_state=42)\n",
    "\n",
    "rf = RandomForestClassifier(random_state=42,n_estimators = 50)\n",
    "param_grid = {'max_depth':[4,5,6,None],\"min_samples_leaf\": [1, 5, 10], \"min_samples_split\": [2, 5, 10, 20]}\n",
    "grid_rf = GridSearchCV(estimator=rf, param_grid=param_grid, cv=5,scoring='roc_auc')\n",
    "\n",
    "grid_rf_result = grid_rf.fit(X_train,y_train)\n",
    "best_score_rf, best_params_rf = grid_rf_result.best_score_,grid_rf_result.best_params_\n",
    "print(\"Random Forest - AUC: %f using %s\" % (best_score_rf, best_params_rf))"
   ]
  },
  {
   "cell_type": "code",
   "execution_count": 149,
   "metadata": {},
   "outputs": [
    {
     "name": "stdout",
     "output_type": "stream",
     "text": [
      "Accuracy over the training set: 0.5496076233183856\n",
      "Accuracy over the test set: 0.38565022421524664\n"
     ]
    }
   ],
   "source": [
    "y_pred = grid_rf.predict(X_train)\n",
    "print('Accuracy over the training set: {}'.format(accuracy_score(y_train, y_pred)))\n",
    "y_pred = grid_rf.predict(X_test)\n",
    "print('Accuracy over the test set: {}'.format(accuracy_score(y_test, y_pred)))"
   ]
  },
  {
   "cell_type": "markdown",
   "metadata": {},
   "source": [
    "N.B.: the accuracy score is obtained using a threshold of 0.5 for the predicted probabilities."
   ]
  },
  {
   "cell_type": "code",
   "execution_count": 150,
   "metadata": {},
   "outputs": [
    {
     "data": {
      "image/png": "[encoded data removed]",
      "text/plain": [
       "<Figure size 720x720 with 1 Axes>"
      ]
     },
     "metadata": {
      "needs_background": "light"
     },
     "output_type": "display_data"
    }
   ],
   "source": [
    "feat_imp = pd.Series(grid_rf_result.best_estimator_.feature_importances_, index=X_train.columns)\n",
    "\n",
    "fig,ax = plt.subplots(figsize=(10,10))\n",
    "_ = feat_imp.nlargest(20).sort_values().plot(kind='barh',ax=ax)\n",
    "_ = ax.set_xlabel('Average importance (a.u.)')\n",
    "_ = ax.set_ylabel('Features')\n",
    "plt.show()"
   ]
  },
  {
   "cell_type": "markdown",
   "metadata": {},
   "source": [
    "# 3.2 - Feature engineering"
   ]
  },
  {
   "cell_type": "markdown",
   "metadata": {},
   "source": [
    "My idea for new features is very simple: instead of trying to predict the position based on the values of each attribute, we create features that indicate the importance of each feature to the overall ability of the player. The preferred positions of a player should depend on what features are more or less important to his overall. Thus, after testing how some different normalizations impact the model AUC score, we see that a simple subtraction is the best way to do it here."
   ]
  },
  {
   "cell_type": "code",
   "execution_count": 151,
   "metadata": {},
   "outputs": [],
   "source": [
    "attributes = ball_skills + defence + mental + passing + physical + shooting\n",
    "\n",
    "for attribute in attributes:\n",
    "    players_df_positions[attribute+'_minus_ovr'] = players_df_positions[attribute] - players_df_positions['overall']\n",
    "    \n",
    "players_df_positions['ball_skills_minus_ovr'] = players_df_positions['ball_skills'] - players_df_positions['overall']\n",
    "players_df_positions['defence_minus_ovr'] = players_df_positions['defence'] - players_df_positions['overall']\n",
    "players_df_positions['mental_minus_ovr'] = players_df_positions['mental'] - players_df_positions['overall']\n",
    "players_df_positions['passing_minus_ovr'] = players_df_positions['passing'] - players_df_positions['overall']\n",
    "players_df_positions['physical_minus_ovr'] = players_df_positions['physical'] - players_df_positions['overall']\n",
    "players_df_positions['shooting_minus_ovr'] = players_df_positions['shooting'] - players_df_positions['overall']"
   ]
  },
  {
   "cell_type": "markdown",
   "metadata": {},
   "source": [
    "# 3.3 - Model tuning and predictions"
   ]
  },
  {
   "cell_type": "code",
   "execution_count": 152,
   "metadata": {},
   "outputs": [
    {
     "name": "stdout",
     "output_type": "stream",
     "text": [
      "Random Forest - AUC: 0.934155 using {'max_depth': None, 'min_samples_leaf': 5, 'min_samples_split': 2}\n"
     ]
    }
   ],
   "source": [
    "X_train, X_test, y_train, y_test = train_test_split(players_df_positions.drop(columns=positions),players_df_positions[positions],\\\n",
    "                                                    test_size=0.2,random_state=42)\n",
    "\n",
    "rf = RandomForestClassifier(random_state=42,n_estimators = 50)\n",
    "param_grid = {'max_depth':[4,5,6,None],\"min_samples_leaf\": [1, 5, 10], \"min_samples_split\": [2, 5, 10, 20]}\n",
    "grid_rf = GridSearchCV(estimator=rf, param_grid=param_grid, cv=5,scoring='roc_auc')\n",
    "\n",
    "grid_rf_result = grid_rf.fit(X_train,y_train)\n",
    "best_score_rf, best_params_rf = grid_rf_result.best_score_,grid_rf_result.best_params_\n",
    "print(\"Random Forest - AUC: %f using %s\" % (best_score_rf, best_params_rf))"
   ]
  },
  {
   "cell_type": "code",
   "execution_count": 153,
   "metadata": {},
   "outputs": [
    {
     "name": "stdout",
     "output_type": "stream",
     "text": [
      "Accuracy over the training set: 0.5770739910313901\n",
      "Accuracy over the test set: 0.4069506726457399\n"
     ]
    }
   ],
   "source": [
    "y_pred = grid_rf.predict(X_train)\n",
    "print('Accuracy over the training set: {}'.format(accuracy_score(y_train, y_pred)))\n",
    "y_pred = grid_rf.predict(X_test)\n",
    "print('Accuracy over the test set: {}'.format(accuracy_score(y_test, y_pred)))"
   ]
  },
  {
   "cell_type": "code",
   "execution_count": 154,
   "metadata": {},
   "outputs": [
    {
     "data": {
      "image/png": "[encoded data removed]",
      "text/plain": [
       "<Figure size 720x720 with 1 Axes>"
      ]
     },
     "metadata": {
      "needs_background": "light"
     },
     "output_type": "display_data"
    }
   ],
   "source": [
    "feat_imp = pd.Series(grid_rf_result.best_estimator_.feature_importances_, index=X_train.columns)\n",
    "\n",
    "fig,ax = plt.subplots(figsize=(10,10))\n",
    "_ = feat_imp.nlargest(20).sort_values().plot(kind='barh',ax=ax)\n",
    "_ = ax.set_xlabel('Average importance (a.u.)')\n",
    "_ = ax.set_ylabel('Features')\n",
    "plt.show()"
   ]
  },
  {
   "cell_type": "markdown",
   "metadata": {},
   "source": [
    "It is clear from the above plot that the features we created are really good for predicting positions. The scores also improved by a good amount after the feature engineering. So, let's pickle our model after training on the whole dataset."
   ]
  },
  {
   "cell_type": "code",
   "execution_count": 155,
   "metadata": {},
   "outputs": [],
   "source": [
    "X = players_df_positions.drop(columns=positions)\n",
    "y = players_df_positions[positions]\n",
    "model = RandomForestClassifier(random_state=42,n_estimators = 50,min_samples_leaf=5)\n",
    "model.fit(X, y)\n",
    "\n",
    "pickl = {'model': model}\n",
    "pickle.dump(pickl, open( 'model_positions' + \".p\", \"wb\" ))"
   ]
  },
  {
   "cell_type": "code",
   "execution_count": 156,
   "metadata": {},
   "outputs": [
    {
     "name": "stdout",
     "output_type": "stream",
     "text": [
      "Accuracy over the training set: 0.5733183856502242\n"
     ]
    }
   ],
   "source": [
    "y_pred = model.predict(X)\n",
    "print('Accuracy over the training set: {}'.format(accuracy_score(y, y_pred)))"
   ]
  },
  {
   "cell_type": "markdown",
   "metadata": {},
   "source": [
    "In our app, we are not interested in predicting exactly the same positions labeled by FIFA 20. Instead, we would like to be able of predicting a high probability for these labeled positions, but also find other possible positions. For this reason, we use the method predict_proba() and order the positions in a descending order based on its probability of being true.\n",
    "\n",
    "Let's do that now and compare with the labels given by FIFA 20."
   ]
  },
  {
   "cell_type": "code",
   "execution_count": 176,
   "metadata": {},
   "outputs": [],
   "source": [
    "#probas = model.predict_proba(X.iloc[:1])\n",
    "probas = model.predict_proba(X)"
   ]
  },
  {
   "cell_type": "code",
   "execution_count": 185,
   "metadata": {},
   "outputs": [
    {
     "data": {
      "text/html": [
       "<div>\n",
       "<style scoped>\n",
       "    .dataframe tbody tr th:only-of-type {\n",
       "        vertical-align: middle;\n",
       "    }\n",
       "\n",
       "    .dataframe tbody tr th {\n",
       "        vertical-align: top;\n",
       "    }\n",
       "\n",
       "    .dataframe thead th {\n",
       "        text-align: right;\n",
       "    }\n",
       "</style>\n",
       "<table border=\"1\" class=\"dataframe\">\n",
       "  <thead>\n",
       "    <tr style=\"text-align: right;\">\n",
       "      <th></th>\n",
       "      <th>values</th>\n",
       "      <th>probabilities (%)</th>\n",
       "    </tr>\n",
       "  </thead>\n",
       "  <tbody>\n",
       "    <tr>\n",
       "      <th>ST</th>\n",
       "      <td>1</td>\n",
       "      <td>49</td>\n",
       "    </tr>\n",
       "    <tr>\n",
       "      <th>CF</th>\n",
       "      <td>1</td>\n",
       "      <td>43</td>\n",
       "    </tr>\n",
       "    <tr>\n",
       "      <th>CAM</th>\n",
       "      <td>0</td>\n",
       "      <td>41</td>\n",
       "    </tr>\n",
       "    <tr>\n",
       "      <th>RW</th>\n",
       "      <td>1</td>\n",
       "      <td>37</td>\n",
       "    </tr>\n",
       "    <tr>\n",
       "      <th>LW</th>\n",
       "      <td>0</td>\n",
       "      <td>31</td>\n",
       "    </tr>\n",
       "    <tr>\n",
       "      <th>LM</th>\n",
       "      <td>0</td>\n",
       "      <td>15</td>\n",
       "    </tr>\n",
       "    <tr>\n",
       "      <th>RM</th>\n",
       "      <td>0</td>\n",
       "      <td>12</td>\n",
       "    </tr>\n",
       "    <tr>\n",
       "      <th>CM</th>\n",
       "      <td>0</td>\n",
       "      <td>8</td>\n",
       "    </tr>\n",
       "    <tr>\n",
       "      <th>CB</th>\n",
       "      <td>0</td>\n",
       "      <td>0</td>\n",
       "    </tr>\n",
       "    <tr>\n",
       "      <th>CDM</th>\n",
       "      <td>0</td>\n",
       "      <td>0</td>\n",
       "    </tr>\n",
       "    <tr>\n",
       "      <th>RB</th>\n",
       "      <td>0</td>\n",
       "      <td>0</td>\n",
       "    </tr>\n",
       "    <tr>\n",
       "      <th>LB</th>\n",
       "      <td>0</td>\n",
       "      <td>0</td>\n",
       "    </tr>\n",
       "    <tr>\n",
       "      <th>LWB</th>\n",
       "      <td>0</td>\n",
       "      <td>0</td>\n",
       "    </tr>\n",
       "    <tr>\n",
       "      <th>RWB</th>\n",
       "      <td>0</td>\n",
       "      <td>0</td>\n",
       "    </tr>\n",
       "  </tbody>\n",
       "</table>\n",
       "</div>"
      ],
      "text/plain": [
       "     values  probabilities (%)\n",
       "ST        1                 49\n",
       "CF        1                 43\n",
       "CAM       0                 41\n",
       "RW        1                 37\n",
       "LW        0                 31\n",
       "LM        0                 15\n",
       "RM        0                 12\n",
       "CM        0                  8\n",
       "CB        0                  0\n",
       "CDM       0                  0\n",
       "RB        0                  0\n",
       "LB        0                  0\n",
       "LWB       0                  0\n",
       "RWB       0                  0"
      ]
     },
     "execution_count": 185,
     "metadata": {},
     "output_type": "execute_result"
    }
   ],
   "source": [
    "predicted_probas = []\n",
    "for i in range(14):\n",
    "    predicted_probas = predicted_probas + [int(round(probas[i][0,1],2)*100)]\n",
    "\n",
    "positions_df = y.iloc[0].to_frame(name='values')\n",
    "positions_df['probabilities (%)'] = predicted_probas\n",
    "positions_df.sort_values('probabilities (%)',ascending=False)"
   ]
  },
  {
   "cell_type": "markdown",
   "metadata": {},
   "source": [
    "The model ordered the positions almost in a way that the first three positions match the FIFA 20 labels."
   ]
  },
  {
   "cell_type": "code",
   "execution_count": 179,
   "metadata": {},
   "outputs": [
    {
     "data": {
      "text/html": [
       "<div>\n",
       "<style scoped>\n",
       "    .dataframe tbody tr th:only-of-type {\n",
       "        vertical-align: middle;\n",
       "    }\n",
       "\n",
       "    .dataframe tbody tr th {\n",
       "        vertical-align: top;\n",
       "    }\n",
       "\n",
       "    .dataframe thead th {\n",
       "        text-align: right;\n",
       "    }\n",
       "</style>\n",
       "<table border=\"1\" class=\"dataframe\">\n",
       "  <thead>\n",
       "    <tr style=\"text-align: right;\">\n",
       "      <th></th>\n",
       "      <th>values</th>\n",
       "      <th>probabilities (%)</th>\n",
       "    </tr>\n",
       "  </thead>\n",
       "  <tbody>\n",
       "    <tr>\n",
       "      <th>ST</th>\n",
       "      <td>1</td>\n",
       "      <td>81</td>\n",
       "    </tr>\n",
       "    <tr>\n",
       "      <th>LW</th>\n",
       "      <td>1</td>\n",
       "      <td>68</td>\n",
       "    </tr>\n",
       "    <tr>\n",
       "      <th>RW</th>\n",
       "      <td>1</td>\n",
       "      <td>50</td>\n",
       "    </tr>\n",
       "    <tr>\n",
       "      <th>LM</th>\n",
       "      <td>0</td>\n",
       "      <td>8</td>\n",
       "    </tr>\n",
       "    <tr>\n",
       "      <th>CF</th>\n",
       "      <td>0</td>\n",
       "      <td>7</td>\n",
       "    </tr>\n",
       "    <tr>\n",
       "      <th>RM</th>\n",
       "      <td>0</td>\n",
       "      <td>4</td>\n",
       "    </tr>\n",
       "    <tr>\n",
       "      <th>CAM</th>\n",
       "      <td>0</td>\n",
       "      <td>3</td>\n",
       "    </tr>\n",
       "    <tr>\n",
       "      <th>CB</th>\n",
       "      <td>0</td>\n",
       "      <td>0</td>\n",
       "    </tr>\n",
       "    <tr>\n",
       "      <th>CM</th>\n",
       "      <td>0</td>\n",
       "      <td>0</td>\n",
       "    </tr>\n",
       "    <tr>\n",
       "      <th>CDM</th>\n",
       "      <td>0</td>\n",
       "      <td>0</td>\n",
       "    </tr>\n",
       "    <tr>\n",
       "      <th>RB</th>\n",
       "      <td>0</td>\n",
       "      <td>0</td>\n",
       "    </tr>\n",
       "    <tr>\n",
       "      <th>LB</th>\n",
       "      <td>0</td>\n",
       "      <td>0</td>\n",
       "    </tr>\n",
       "    <tr>\n",
       "      <th>LWB</th>\n",
       "      <td>0</td>\n",
       "      <td>0</td>\n",
       "    </tr>\n",
       "    <tr>\n",
       "      <th>RWB</th>\n",
       "      <td>0</td>\n",
       "      <td>0</td>\n",
       "    </tr>\n",
       "  </tbody>\n",
       "</table>\n",
       "</div>"
      ],
      "text/plain": [
       "     values  probabilities (%)\n",
       "ST        1                 81\n",
       "LW        1                 68\n",
       "RW        1                 50\n",
       "LM        0                  8\n",
       "CF        0                  7\n",
       "RM        0                  4\n",
       "CAM       0                  3\n",
       "CB        0                  0\n",
       "CM        0                  0\n",
       "CDM       0                  0\n",
       "RB        0                  0\n",
       "LB        0                  0\n",
       "LWB       0                  0\n",
       "RWB       0                  0"
      ]
     },
     "execution_count": 179,
     "metadata": {},
     "output_type": "execute_result"
    }
   ],
   "source": [
    "predicted_probas = []\n",
    "for i in range(14):\n",
    "    predicted_probas = predicted_probas + [int(round(probas[i][10,1],3)*100)]\n",
    "\n",
    "positions_df = y.iloc[10].to_frame(name='values')\n",
    "positions_df['probabilities (%)'] = predicted_probas\n",
    "positions_df.sort_values('probabilities (%)',ascending=False)"
   ]
  },
  {
   "cell_type": "markdown",
   "metadata": {},
   "source": [
    "Here our model classified 100% of the labels correctly."
   ]
  },
  {
   "cell_type": "code",
   "execution_count": 180,
   "metadata": {},
   "outputs": [
    {
     "data": {
      "text/html": [
       "<div>\n",
       "<style scoped>\n",
       "    .dataframe tbody tr th:only-of-type {\n",
       "        vertical-align: middle;\n",
       "    }\n",
       "\n",
       "    .dataframe tbody tr th {\n",
       "        vertical-align: top;\n",
       "    }\n",
       "\n",
       "    .dataframe thead th {\n",
       "        text-align: right;\n",
       "    }\n",
       "</style>\n",
       "<table border=\"1\" class=\"dataframe\">\n",
       "  <thead>\n",
       "    <tr style=\"text-align: right;\">\n",
       "      <th></th>\n",
       "      <th>values</th>\n",
       "      <th>probabilities (%)</th>\n",
       "    </tr>\n",
       "  </thead>\n",
       "  <tbody>\n",
       "    <tr>\n",
       "      <th>CB</th>\n",
       "      <td>1</td>\n",
       "      <td>98</td>\n",
       "    </tr>\n",
       "    <tr>\n",
       "      <th>RB</th>\n",
       "      <td>0</td>\n",
       "      <td>4</td>\n",
       "    </tr>\n",
       "    <tr>\n",
       "      <th>CDM</th>\n",
       "      <td>0</td>\n",
       "      <td>3</td>\n",
       "    </tr>\n",
       "    <tr>\n",
       "      <th>LB</th>\n",
       "      <td>0</td>\n",
       "      <td>2</td>\n",
       "    </tr>\n",
       "    <tr>\n",
       "      <th>RWB</th>\n",
       "      <td>0</td>\n",
       "      <td>1</td>\n",
       "    </tr>\n",
       "    <tr>\n",
       "      <th>RW</th>\n",
       "      <td>0</td>\n",
       "      <td>0</td>\n",
       "    </tr>\n",
       "    <tr>\n",
       "      <th>ST</th>\n",
       "      <td>0</td>\n",
       "      <td>0</td>\n",
       "    </tr>\n",
       "    <tr>\n",
       "      <th>CF</th>\n",
       "      <td>0</td>\n",
       "      <td>0</td>\n",
       "    </tr>\n",
       "    <tr>\n",
       "      <th>LW</th>\n",
       "      <td>0</td>\n",
       "      <td>0</td>\n",
       "    </tr>\n",
       "    <tr>\n",
       "      <th>CAM</th>\n",
       "      <td>0</td>\n",
       "      <td>0</td>\n",
       "    </tr>\n",
       "    <tr>\n",
       "      <th>CM</th>\n",
       "      <td>0</td>\n",
       "      <td>0</td>\n",
       "    </tr>\n",
       "    <tr>\n",
       "      <th>LM</th>\n",
       "      <td>0</td>\n",
       "      <td>0</td>\n",
       "    </tr>\n",
       "    <tr>\n",
       "      <th>RM</th>\n",
       "      <td>0</td>\n",
       "      <td>0</td>\n",
       "    </tr>\n",
       "    <tr>\n",
       "      <th>LWB</th>\n",
       "      <td>0</td>\n",
       "      <td>0</td>\n",
       "    </tr>\n",
       "  </tbody>\n",
       "</table>\n",
       "</div>"
      ],
      "text/plain": [
       "     values  probabilities (%)\n",
       "CB        1                 98\n",
       "RB        0                  4\n",
       "CDM       0                  3\n",
       "LB        0                  2\n",
       "RWB       0                  1\n",
       "RW        0                  0\n",
       "ST        0                  0\n",
       "CF        0                  0\n",
       "LW        0                  0\n",
       "CAM       0                  0\n",
       "CM        0                  0\n",
       "LM        0                  0\n",
       "RM        0                  0\n",
       "LWB       0                  0"
      ]
     },
     "execution_count": 180,
     "metadata": {},
     "output_type": "execute_result"
    }
   ],
   "source": [
    "predicted_probas = []\n",
    "for i in range(14):\n",
    "    predicted_probas = predicted_probas + [int(round(probas[i][3,1],3)*100)]\n",
    "\n",
    "positions_df = y.iloc[3].to_frame(name='values')\n",
    "positions_df['probabilities (%)'] = predicted_probas\n",
    "positions_df.sort_values('probabilities (%)',ascending=False)"
   ]
  },
  {
   "cell_type": "markdown",
   "metadata": {},
   "source": [
    "We can see that the model has a higher ability of classifying centre-backs."
   ]
  },
  {
   "cell_type": "code",
   "execution_count": 182,
   "metadata": {},
   "outputs": [
    {
     "data": {
      "text/html": [
       "<div>\n",
       "<style scoped>\n",
       "    .dataframe tbody tr th:only-of-type {\n",
       "        vertical-align: middle;\n",
       "    }\n",
       "\n",
       "    .dataframe tbody tr th {\n",
       "        vertical-align: top;\n",
       "    }\n",
       "\n",
       "    .dataframe thead th {\n",
       "        text-align: right;\n",
       "    }\n",
       "</style>\n",
       "<table border=\"1\" class=\"dataframe\">\n",
       "  <thead>\n",
       "    <tr style=\"text-align: right;\">\n",
       "      <th></th>\n",
       "      <th>values</th>\n",
       "      <th>probabilities (%)</th>\n",
       "    </tr>\n",
       "  </thead>\n",
       "  <tbody>\n",
       "    <tr>\n",
       "      <th>LB</th>\n",
       "      <td>1</td>\n",
       "      <td>82</td>\n",
       "    </tr>\n",
       "    <tr>\n",
       "      <th>LM</th>\n",
       "      <td>0</td>\n",
       "      <td>15</td>\n",
       "    </tr>\n",
       "    <tr>\n",
       "      <th>LWB</th>\n",
       "      <td>0</td>\n",
       "      <td>15</td>\n",
       "    </tr>\n",
       "    <tr>\n",
       "      <th>RB</th>\n",
       "      <td>0</td>\n",
       "      <td>14</td>\n",
       "    </tr>\n",
       "    <tr>\n",
       "      <th>CM</th>\n",
       "      <td>0</td>\n",
       "      <td>7</td>\n",
       "    </tr>\n",
       "    <tr>\n",
       "      <th>RM</th>\n",
       "      <td>0</td>\n",
       "      <td>7</td>\n",
       "    </tr>\n",
       "    <tr>\n",
       "      <th>CB</th>\n",
       "      <td>0</td>\n",
       "      <td>6</td>\n",
       "    </tr>\n",
       "    <tr>\n",
       "      <th>CDM</th>\n",
       "      <td>0</td>\n",
       "      <td>4</td>\n",
       "    </tr>\n",
       "    <tr>\n",
       "      <th>RWB</th>\n",
       "      <td>0</td>\n",
       "      <td>2</td>\n",
       "    </tr>\n",
       "    <tr>\n",
       "      <th>LW</th>\n",
       "      <td>0</td>\n",
       "      <td>1</td>\n",
       "    </tr>\n",
       "    <tr>\n",
       "      <th>CAM</th>\n",
       "      <td>0</td>\n",
       "      <td>1</td>\n",
       "    </tr>\n",
       "    <tr>\n",
       "      <th>RW</th>\n",
       "      <td>0</td>\n",
       "      <td>0</td>\n",
       "    </tr>\n",
       "    <tr>\n",
       "      <th>ST</th>\n",
       "      <td>0</td>\n",
       "      <td>0</td>\n",
       "    </tr>\n",
       "    <tr>\n",
       "      <th>CF</th>\n",
       "      <td>0</td>\n",
       "      <td>0</td>\n",
       "    </tr>\n",
       "  </tbody>\n",
       "</table>\n",
       "</div>"
      ],
      "text/plain": [
       "     values  probabilities (%)\n",
       "LB        1                 82\n",
       "LM        0                 15\n",
       "LWB       0                 15\n",
       "RB        0                 14\n",
       "CM        0                  7\n",
       "RM        0                  7\n",
       "CB        0                  6\n",
       "CDM       0                  4\n",
       "RWB       0                  2\n",
       "LW        0                  1\n",
       "CAM       0                  1\n",
       "RW        0                  0\n",
       "ST        0                  0\n",
       "CF        0                  0"
      ]
     },
     "execution_count": 182,
     "metadata": {},
     "output_type": "execute_result"
    }
   ],
   "source": [
    "predicted_probas = []\n",
    "for i in range(14):\n",
    "    predicted_probas = predicted_probas + [int(round(probas[i][2000,1],3)*100)]\n",
    "\n",
    "positions_df = y.iloc[2000].to_frame(name='values')\n",
    "positions_df['probabilities (%)'] = predicted_probas\n",
    "positions_df.sort_values('probabilities (%)',ascending=False)"
   ]
  },
  {
   "cell_type": "markdown",
   "metadata": {},
   "source": [
    "Same here. Four our app, we should recommend the top positions for the user. However, we should take care to not recommend positions that are very unlikely that the player will perform well. Hence, we must define a threshold for recommending positions based on the probability predicted by the model."
   ]
  },
  {
   "cell_type": "markdown",
   "metadata": {},
   "source": [
    "# 4 - About the application"
   ]
  },
  {
   "cell_type": "markdown",
   "metadata": {},
   "source": [
    "In our app, we want to ease the life of the user by reducing the amount of information he must pass to the API. For this reason, all the feature engineering will be made under the hood, so that the user will only fill the basic information of the player. Also, since the specialities can be obtaine from the attributes, we will not require that as an input.\n",
    "\n",
    "Below, we sketch the strucutre of our Flask API using a test set of player, justifying the reasoning behind every code that can be find in its corresponding folder."
   ]
  },
  {
   "cell_type": "code",
   "execution_count": 79,
   "metadata": {},
   "outputs": [],
   "source": [
    "# Information that should be provided by the user\n",
    "input_columns = ['overall', 'height', 'weight', 'age', 'weak_foot', 'skill_moves',\\\n",
    "                  'preferred_foot_Left', 'preferred_foot_Right', 'att_work_rate_High', 'att_work_rate_Low',\\\n",
    "                  'att_work_rate_Medium', 'def_work_rate_High', 'def_work_rate_Low', 'def_work_rate_Medium',\\\n",
    "                 'RW', 'ST', 'CF', 'LW', 'CAM', 'CB', 'GK', 'CM', 'CDM', 'LM', 'RB', 'RM', 'LB', 'LWB', 'RWB'] + attributes\n",
    "# Data for testing our ideas for the API\n",
    "data_test = players_df_wage[input_columns].copy()"
   ]
  },
  {
   "cell_type": "markdown",
   "metadata": {},
   "source": [
    "Below we define the functions for getting the values of the specialities columns and apply it to the data_test. The requirements for each speciality can be found at https://fifa.fandom.com/wiki/Speciality"
   ]
  },
  {
   "cell_type": "code",
   "execution_count": 107,
   "metadata": {},
   "outputs": [],
   "source": [
    "def is_Poacher(row):\n",
    "    if row['att_work_rate_High'] == 0:\n",
    "        if (row['heading']>=75)&(row['finishing']>=85):\n",
    "            return 1\n",
    "        else:\n",
    "            return 0\n",
    "    else:\n",
    "        return 0\n",
    "    \n",
    "def is_Speedster(row):\n",
    "    if (row['sprint_speed'] + row['acceleration']) >= 180:\n",
    "        return 1\n",
    "    else:\n",
    "        return 0\n",
    "    \n",
    "def is_Aerial_Threat(row):\n",
    "    if row['height'] < 188:\n",
    "        return 0\n",
    "    elif (row['height'] >=188)&(row['height'] <= 194):\n",
    "        if (row['heading'] >=90)&((row['strength'] >= 85)|(row['jumping'] >= 85)):\n",
    "            return 1\n",
    "        else:\n",
    "            return 0\n",
    "    elif row['height'] > 194:\n",
    "        if row['heading'] >= 75:\n",
    "            return 1\n",
    "        else:\n",
    "            return 0\n",
    "    else:\n",
    "        return 0\n",
    "\n",
    "def is_Dribbler(row):\n",
    "    if (row['dribbling'] >= 86)&(row['skill_moves'] == 5):\n",
    "        return 1\n",
    "    elif (row['dribbling']>=86)&(row['balance']>=75):\n",
    "        return 1\n",
    "    else:\n",
    "        return 0\n",
    "    \n",
    "def is_Playmaker(row):\n",
    "    if row[['CM','CDM','CAM']].sum() >= 1:\n",
    "        if (row['vision'] >= 86)&(row['short_pass'] >= 86)&(row['long_pass'] >= 73):\n",
    "            return 1\n",
    "        else:\n",
    "            return 0\n",
    "    else:\n",
    "        return 0\n",
    "    \n",
    "def is_Engine(row):\n",
    "    if (row['att_work_rate_High'] == 1)&(row['def_work_rate_High'] == 1)&(row['stamina'] >= 86):\n",
    "        return 1\n",
    "    else:\n",
    "        return 0\n",
    "    \n",
    "def is_Distance_Shooter(row):\n",
    "    if (row['long_shot'] + row['shot_power']) >= 174:\n",
    "        return 1\n",
    "    else:\n",
    "        return 0\n",
    "    \n",
    "def is_Crosser(row):\n",
    "    if (row['crossing'] >= 86)&(row['curve'] >= 80):\n",
    "        return 1\n",
    "    else:\n",
    "        return 0\n",
    "    \n",
    "def is_FK_Specialist(row):\n",
    "    if (row['fk_acc'] >=86)&((row['curve'] >= 85)|(row['shot_power'] >= 85)):\n",
    "        return 1\n",
    "    else:\n",
    "        return 0\n",
    "    \n",
    "def is_Tackling(row):\n",
    "    if (row['stand_tackle'] >= 86)&(row['side_tackle'] >= 85):\n",
    "        return 1\n",
    "    else:\n",
    "        return 0\n",
    "    \n",
    "def is_Tactician(row):\n",
    "    if (row['interceptions'] >= 86)&(row['reactions'] >= 80):\n",
    "        return 1\n",
    "    else:\n",
    "        return 0\n",
    "    \n",
    "def is_Acrobat(row):\n",
    "    if (row['agility'] >= 90):\n",
    "        return 1\n",
    "    elif (row['agility'] >= 86)&(row['reactions'] >= 80):\n",
    "        return 1\n",
    "    else:\n",
    "        return 0\n",
    "    \n",
    "def is_Strength(row):\n",
    "    if (row['weight'] <= 82)&(row['strength'] >= 90):\n",
    "        return 1\n",
    "    elif (row['weight'] > 82)&(row['strength'] >= 86):\n",
    "        return 1\n",
    "    else:\n",
    "        return 0\n",
    "    \n",
    "def is_Clinical_Finisher(row):\n",
    "    if (row['finishing'] >= 86)&(row['long_shot'] >= 80):\n",
    "        return 1\n",
    "    else:\n",
    "        return 0\n",
    "    \n",
    "def is_Complete_Defender(row):\n",
    "    if (row['Tactician'] == 1)&(row['Tackling'] == 1):\n",
    "        if row[['Strength','Acrobat','Aerial_Threat']].sum() >= 1:\n",
    "            return 1\n",
    "        else:\n",
    "            return 0\n",
    "    else:\n",
    "        return 0\n",
    "    \n",
    "def is_Complete_Midfielder(row):\n",
    "    if (row['Playmaker'] == 1):\n",
    "        if row[['Distance_Shooter', 'Engine', 'Dribbler', 'FK_Specialist', 'Tackling', 'Crosser', 'Clinical_Finisher']].sum() >= 2:\n",
    "            return 1\n",
    "        else:\n",
    "            return 0\n",
    "    else:\n",
    "        return 0\n",
    "\n",
    "def is_Complete_Forward(row):\n",
    "    important = ['Clinical_Finisher','Poacher']\n",
    "    standard = ['Aerial_Threat', 'Speedster', 'Dribbler', 'Strength']\n",
    "    if row[important].sum() >= 1:\n",
    "        if row[standard].sum() >= 2:\n",
    "            return 1\n",
    "    elif row[important].sum() >= 2:\n",
    "        if row[standard].sum() >= 1:\n",
    "            return 1\n",
    "        \n",
    "    return 0"
   ]
  },
  {
   "cell_type": "code",
   "execution_count": 108,
   "metadata": {},
   "outputs": [],
   "source": [
    "data_test['Dribbler'] = data_test.apply(is_Dribbler,axis=1)\n",
    "data_test['Distance_Shooter'] = data_test.apply(is_Distance_Shooter,axis=1)\n",
    "data_test['Crosser'] = data_test.apply(is_Crosser,axis=1)\n",
    "data_test['FK_Specialist'] = data_test.apply(is_FK_Specialist,axis=1)\n",
    "data_test['Acrobat'] = data_test.apply(is_Acrobat,axis=1)\n",
    "data_test['Clinical_Finisher'] = data_test.apply(is_Clinical_Finisher,axis=1)\n",
    "data_test['Speedster'] = data_test.apply(is_Speedster,axis=1)\n",
    "data_test['Playmaker'] = data_test.apply(is_Playmaker,axis=1)\n",
    "data_test['Strength'] = data_test.apply(is_Strength,axis=1)\n",
    "data_test['Tackling'] = data_test.apply(is_Tackling,axis=1)\n",
    "data_test['Tactician'] = data_test.apply(is_Tactician,axis=1)\n",
    "data_test['Poacher'] = data_test.apply(is_Poacher,axis=1)\n",
    "data_test['Aerial_Threat'] = data_test.apply(is_Aerial_Threat,axis=1)\n",
    "data_test['Engine'] = data_test.apply(is_Engine,axis=1)\n",
    "data_test['Complete_Defender'] = data_test.apply(is_Complete_Defender,axis=1)\n",
    "data_test['Complete_Midfielder'] = data_test.apply(is_Complete_Midfielder,axis=1)\n",
    "data_test['Complete_Forward'] = data_test.apply(is_Complete_Forward,axis=1)"
   ]
  },
  {
   "cell_type": "markdown",
   "metadata": {},
   "source": [
    "Let's see if the data generated by our code match the real specialities of the players by subtracting the correct ones (all values must be zero if everything is ok)."
   ]
  },
  {
   "cell_type": "code",
   "execution_count": 110,
   "metadata": {},
   "outputs": [
    {
     "data": {
      "text/html": [
       "<div>\n",
       "<style scoped>\n",
       "    .dataframe tbody tr th:only-of-type {\n",
       "        vertical-align: middle;\n",
       "    }\n",
       "\n",
       "    .dataframe tbody tr th {\n",
       "        vertical-align: top;\n",
       "    }\n",
       "\n",
       "    .dataframe thead th {\n",
       "        text-align: right;\n",
       "    }\n",
       "</style>\n",
       "<table border=\"1\" class=\"dataframe\">\n",
       "  <thead>\n",
       "    <tr style=\"text-align: right;\">\n",
       "      <th></th>\n",
       "      <th>Dribbler</th>\n",
       "      <th>Distance_Shooter</th>\n",
       "      <th>Crosser</th>\n",
       "      <th>FK_Specialist</th>\n",
       "      <th>Acrobat</th>\n",
       "      <th>Clinical_Finisher</th>\n",
       "      <th>Speedster</th>\n",
       "      <th>Playmaker</th>\n",
       "      <th>Strength</th>\n",
       "      <th>Complete_Midfielder</th>\n",
       "      <th>Complete_Forward</th>\n",
       "      <th>Complete_Defender</th>\n",
       "      <th>Tackling</th>\n",
       "      <th>Tactician</th>\n",
       "      <th>Poacher</th>\n",
       "      <th>Aerial_Threat</th>\n",
       "      <th>Engine</th>\n",
       "    </tr>\n",
       "  </thead>\n",
       "  <tbody>\n",
       "    <tr>\n",
       "      <th>0</th>\n",
       "      <td>0</td>\n",
       "      <td>0</td>\n",
       "      <td>0</td>\n",
       "      <td>0</td>\n",
       "      <td>0</td>\n",
       "      <td>0</td>\n",
       "      <td>0</td>\n",
       "      <td>0</td>\n",
       "      <td>0</td>\n",
       "      <td>0</td>\n",
       "      <td>0</td>\n",
       "      <td>0</td>\n",
       "      <td>0</td>\n",
       "      <td>0</td>\n",
       "      <td>0</td>\n",
       "      <td>0</td>\n",
       "      <td>0</td>\n",
       "    </tr>\n",
       "    <tr>\n",
       "      <th>1</th>\n",
       "      <td>0</td>\n",
       "      <td>0</td>\n",
       "      <td>0</td>\n",
       "      <td>0</td>\n",
       "      <td>0</td>\n",
       "      <td>0</td>\n",
       "      <td>0</td>\n",
       "      <td>0</td>\n",
       "      <td>0</td>\n",
       "      <td>0</td>\n",
       "      <td>0</td>\n",
       "      <td>0</td>\n",
       "      <td>0</td>\n",
       "      <td>0</td>\n",
       "      <td>0</td>\n",
       "      <td>0</td>\n",
       "      <td>0</td>\n",
       "    </tr>\n",
       "    <tr>\n",
       "      <th>2</th>\n",
       "      <td>0</td>\n",
       "      <td>0</td>\n",
       "      <td>0</td>\n",
       "      <td>0</td>\n",
       "      <td>0</td>\n",
       "      <td>0</td>\n",
       "      <td>0</td>\n",
       "      <td>0</td>\n",
       "      <td>0</td>\n",
       "      <td>0</td>\n",
       "      <td>0</td>\n",
       "      <td>0</td>\n",
       "      <td>0</td>\n",
       "      <td>0</td>\n",
       "      <td>0</td>\n",
       "      <td>0</td>\n",
       "      <td>0</td>\n",
       "    </tr>\n",
       "    <tr>\n",
       "      <th>3</th>\n",
       "      <td>0</td>\n",
       "      <td>0</td>\n",
       "      <td>0</td>\n",
       "      <td>0</td>\n",
       "      <td>0</td>\n",
       "      <td>0</td>\n",
       "      <td>0</td>\n",
       "      <td>0</td>\n",
       "      <td>0</td>\n",
       "      <td>0</td>\n",
       "      <td>0</td>\n",
       "      <td>0</td>\n",
       "      <td>0</td>\n",
       "      <td>0</td>\n",
       "      <td>0</td>\n",
       "      <td>0</td>\n",
       "      <td>0</td>\n",
       "    </tr>\n",
       "    <tr>\n",
       "      <th>4</th>\n",
       "      <td>0</td>\n",
       "      <td>0</td>\n",
       "      <td>0</td>\n",
       "      <td>0</td>\n",
       "      <td>0</td>\n",
       "      <td>0</td>\n",
       "      <td>0</td>\n",
       "      <td>0</td>\n",
       "      <td>0</td>\n",
       "      <td>0</td>\n",
       "      <td>0</td>\n",
       "      <td>0</td>\n",
       "      <td>0</td>\n",
       "      <td>0</td>\n",
       "      <td>0</td>\n",
       "      <td>0</td>\n",
       "      <td>0</td>\n",
       "    </tr>\n",
       "    <tr>\n",
       "      <th>5</th>\n",
       "      <td>0</td>\n",
       "      <td>0</td>\n",
       "      <td>0</td>\n",
       "      <td>0</td>\n",
       "      <td>0</td>\n",
       "      <td>0</td>\n",
       "      <td>0</td>\n",
       "      <td>0</td>\n",
       "      <td>0</td>\n",
       "      <td>0</td>\n",
       "      <td>0</td>\n",
       "      <td>0</td>\n",
       "      <td>0</td>\n",
       "      <td>0</td>\n",
       "      <td>0</td>\n",
       "      <td>0</td>\n",
       "      <td>0</td>\n",
       "    </tr>\n",
       "    <tr>\n",
       "      <th>6</th>\n",
       "      <td>0</td>\n",
       "      <td>0</td>\n",
       "      <td>0</td>\n",
       "      <td>0</td>\n",
       "      <td>0</td>\n",
       "      <td>0</td>\n",
       "      <td>0</td>\n",
       "      <td>0</td>\n",
       "      <td>0</td>\n",
       "      <td>0</td>\n",
       "      <td>0</td>\n",
       "      <td>0</td>\n",
       "      <td>0</td>\n",
       "      <td>0</td>\n",
       "      <td>0</td>\n",
       "      <td>0</td>\n",
       "      <td>0</td>\n",
       "    </tr>\n",
       "    <tr>\n",
       "      <th>7</th>\n",
       "      <td>0</td>\n",
       "      <td>0</td>\n",
       "      <td>0</td>\n",
       "      <td>0</td>\n",
       "      <td>0</td>\n",
       "      <td>0</td>\n",
       "      <td>0</td>\n",
       "      <td>0</td>\n",
       "      <td>0</td>\n",
       "      <td>0</td>\n",
       "      <td>0</td>\n",
       "      <td>0</td>\n",
       "      <td>0</td>\n",
       "      <td>0</td>\n",
       "      <td>0</td>\n",
       "      <td>0</td>\n",
       "      <td>0</td>\n",
       "    </tr>\n",
       "    <tr>\n",
       "      <th>8</th>\n",
       "      <td>0</td>\n",
       "      <td>0</td>\n",
       "      <td>0</td>\n",
       "      <td>0</td>\n",
       "      <td>0</td>\n",
       "      <td>0</td>\n",
       "      <td>0</td>\n",
       "      <td>0</td>\n",
       "      <td>0</td>\n",
       "      <td>0</td>\n",
       "      <td>0</td>\n",
       "      <td>0</td>\n",
       "      <td>0</td>\n",
       "      <td>0</td>\n",
       "      <td>0</td>\n",
       "      <td>0</td>\n",
       "      <td>0</td>\n",
       "    </tr>\n",
       "    <tr>\n",
       "      <th>9</th>\n",
       "      <td>0</td>\n",
       "      <td>0</td>\n",
       "      <td>0</td>\n",
       "      <td>0</td>\n",
       "      <td>0</td>\n",
       "      <td>0</td>\n",
       "      <td>0</td>\n",
       "      <td>0</td>\n",
       "      <td>0</td>\n",
       "      <td>0</td>\n",
       "      <td>0</td>\n",
       "      <td>0</td>\n",
       "      <td>0</td>\n",
       "      <td>0</td>\n",
       "      <td>0</td>\n",
       "      <td>0</td>\n",
       "      <td>0</td>\n",
       "    </tr>\n",
       "    <tr>\n",
       "      <th>10</th>\n",
       "      <td>0</td>\n",
       "      <td>0</td>\n",
       "      <td>0</td>\n",
       "      <td>0</td>\n",
       "      <td>0</td>\n",
       "      <td>0</td>\n",
       "      <td>0</td>\n",
       "      <td>0</td>\n",
       "      <td>0</td>\n",
       "      <td>0</td>\n",
       "      <td>0</td>\n",
       "      <td>0</td>\n",
       "      <td>0</td>\n",
       "      <td>0</td>\n",
       "      <td>0</td>\n",
       "      <td>0</td>\n",
       "      <td>0</td>\n",
       "    </tr>\n",
       "    <tr>\n",
       "      <th>11</th>\n",
       "      <td>0</td>\n",
       "      <td>0</td>\n",
       "      <td>0</td>\n",
       "      <td>0</td>\n",
       "      <td>0</td>\n",
       "      <td>0</td>\n",
       "      <td>0</td>\n",
       "      <td>0</td>\n",
       "      <td>0</td>\n",
       "      <td>0</td>\n",
       "      <td>0</td>\n",
       "      <td>0</td>\n",
       "      <td>0</td>\n",
       "      <td>0</td>\n",
       "      <td>0</td>\n",
       "      <td>0</td>\n",
       "      <td>0</td>\n",
       "    </tr>\n",
       "    <tr>\n",
       "      <th>12</th>\n",
       "      <td>0</td>\n",
       "      <td>0</td>\n",
       "      <td>0</td>\n",
       "      <td>0</td>\n",
       "      <td>0</td>\n",
       "      <td>0</td>\n",
       "      <td>0</td>\n",
       "      <td>0</td>\n",
       "      <td>0</td>\n",
       "      <td>0</td>\n",
       "      <td>0</td>\n",
       "      <td>0</td>\n",
       "      <td>0</td>\n",
       "      <td>0</td>\n",
       "      <td>0</td>\n",
       "      <td>0</td>\n",
       "      <td>0</td>\n",
       "    </tr>\n",
       "    <tr>\n",
       "      <th>13</th>\n",
       "      <td>0</td>\n",
       "      <td>0</td>\n",
       "      <td>0</td>\n",
       "      <td>0</td>\n",
       "      <td>0</td>\n",
       "      <td>0</td>\n",
       "      <td>0</td>\n",
       "      <td>0</td>\n",
       "      <td>0</td>\n",
       "      <td>0</td>\n",
       "      <td>0</td>\n",
       "      <td>0</td>\n",
       "      <td>0</td>\n",
       "      <td>0</td>\n",
       "      <td>0</td>\n",
       "      <td>0</td>\n",
       "      <td>0</td>\n",
       "    </tr>\n",
       "    <tr>\n",
       "      <th>14</th>\n",
       "      <td>0</td>\n",
       "      <td>0</td>\n",
       "      <td>0</td>\n",
       "      <td>0</td>\n",
       "      <td>0</td>\n",
       "      <td>0</td>\n",
       "      <td>0</td>\n",
       "      <td>0</td>\n",
       "      <td>0</td>\n",
       "      <td>0</td>\n",
       "      <td>0</td>\n",
       "      <td>0</td>\n",
       "      <td>0</td>\n",
       "      <td>0</td>\n",
       "      <td>0</td>\n",
       "      <td>0</td>\n",
       "      <td>0</td>\n",
       "    </tr>\n",
       "    <tr>\n",
       "      <th>15</th>\n",
       "      <td>0</td>\n",
       "      <td>0</td>\n",
       "      <td>0</td>\n",
       "      <td>0</td>\n",
       "      <td>0</td>\n",
       "      <td>0</td>\n",
       "      <td>0</td>\n",
       "      <td>0</td>\n",
       "      <td>0</td>\n",
       "      <td>0</td>\n",
       "      <td>0</td>\n",
       "      <td>0</td>\n",
       "      <td>0</td>\n",
       "      <td>0</td>\n",
       "      <td>0</td>\n",
       "      <td>0</td>\n",
       "      <td>0</td>\n",
       "    </tr>\n",
       "    <tr>\n",
       "      <th>16</th>\n",
       "      <td>0</td>\n",
       "      <td>0</td>\n",
       "      <td>0</td>\n",
       "      <td>0</td>\n",
       "      <td>0</td>\n",
       "      <td>0</td>\n",
       "      <td>0</td>\n",
       "      <td>0</td>\n",
       "      <td>0</td>\n",
       "      <td>0</td>\n",
       "      <td>0</td>\n",
       "      <td>0</td>\n",
       "      <td>0</td>\n",
       "      <td>0</td>\n",
       "      <td>0</td>\n",
       "      <td>0</td>\n",
       "      <td>0</td>\n",
       "    </tr>\n",
       "    <tr>\n",
       "      <th>17</th>\n",
       "      <td>0</td>\n",
       "      <td>0</td>\n",
       "      <td>0</td>\n",
       "      <td>0</td>\n",
       "      <td>0</td>\n",
       "      <td>0</td>\n",
       "      <td>0</td>\n",
       "      <td>0</td>\n",
       "      <td>0</td>\n",
       "      <td>0</td>\n",
       "      <td>0</td>\n",
       "      <td>0</td>\n",
       "      <td>0</td>\n",
       "      <td>0</td>\n",
       "      <td>0</td>\n",
       "      <td>0</td>\n",
       "      <td>0</td>\n",
       "    </tr>\n",
       "    <tr>\n",
       "      <th>18</th>\n",
       "      <td>0</td>\n",
       "      <td>0</td>\n",
       "      <td>0</td>\n",
       "      <td>0</td>\n",
       "      <td>0</td>\n",
       "      <td>0</td>\n",
       "      <td>0</td>\n",
       "      <td>0</td>\n",
       "      <td>0</td>\n",
       "      <td>0</td>\n",
       "      <td>0</td>\n",
       "      <td>0</td>\n",
       "      <td>0</td>\n",
       "      <td>0</td>\n",
       "      <td>0</td>\n",
       "      <td>0</td>\n",
       "      <td>0</td>\n",
       "    </tr>\n",
       "    <tr>\n",
       "      <th>19</th>\n",
       "      <td>0</td>\n",
       "      <td>0</td>\n",
       "      <td>0</td>\n",
       "      <td>0</td>\n",
       "      <td>0</td>\n",
       "      <td>0</td>\n",
       "      <td>0</td>\n",
       "      <td>0</td>\n",
       "      <td>0</td>\n",
       "      <td>0</td>\n",
       "      <td>0</td>\n",
       "      <td>0</td>\n",
       "      <td>0</td>\n",
       "      <td>0</td>\n",
       "      <td>0</td>\n",
       "      <td>0</td>\n",
       "      <td>0</td>\n",
       "    </tr>\n",
       "  </tbody>\n",
       "</table>\n",
       "</div>"
      ],
      "text/plain": [
       "    Dribbler  Distance_Shooter  Crosser  FK_Specialist  Acrobat  \\\n",
       "0          0                 0        0              0        0   \n",
       "1          0                 0        0              0        0   \n",
       "2          0                 0        0              0        0   \n",
       "3          0                 0        0              0        0   \n",
       "4          0                 0        0              0        0   \n",
       "5          0                 0        0              0        0   \n",
       "6          0                 0        0              0        0   \n",
       "7          0                 0        0              0        0   \n",
       "8          0                 0        0              0        0   \n",
       "9          0                 0        0              0        0   \n",
       "10         0                 0        0              0        0   \n",
       "11         0                 0        0              0        0   \n",
       "12         0                 0        0              0        0   \n",
       "13         0                 0        0              0        0   \n",
       "14         0                 0        0              0        0   \n",
       "15         0                 0        0              0        0   \n",
       "16         0                 0        0              0        0   \n",
       "17         0                 0        0              0        0   \n",
       "18         0                 0        0              0        0   \n",
       "19         0                 0        0              0        0   \n",
       "\n",
       "    Clinical_Finisher  Speedster  Playmaker  Strength  Complete_Midfielder  \\\n",
       "0                   0          0          0         0                    0   \n",
       "1                   0          0          0         0                    0   \n",
       "2                   0          0          0         0                    0   \n",
       "3                   0          0          0         0                    0   \n",
       "4                   0          0          0         0                    0   \n",
       "5                   0          0          0         0                    0   \n",
       "6                   0          0          0         0                    0   \n",
       "7                   0          0          0         0                    0   \n",
       "8                   0          0          0         0                    0   \n",
       "9                   0          0          0         0                    0   \n",
       "10                  0          0          0         0                    0   \n",
       "11                  0          0          0         0                    0   \n",
       "12                  0          0          0         0                    0   \n",
       "13                  0          0          0         0                    0   \n",
       "14                  0          0          0         0                    0   \n",
       "15                  0          0          0         0                    0   \n",
       "16                  0          0          0         0                    0   \n",
       "17                  0          0          0         0                    0   \n",
       "18                  0          0          0         0                    0   \n",
       "19                  0          0          0         0                    0   \n",
       "\n",
       "    Complete_Forward  Complete_Defender  Tackling  Tactician  Poacher  \\\n",
       "0                  0                  0         0          0        0   \n",
       "1                  0                  0         0          0        0   \n",
       "2                  0                  0         0          0        0   \n",
       "3                  0                  0         0          0        0   \n",
       "4                  0                  0         0          0        0   \n",
       "5                  0                  0         0          0        0   \n",
       "6                  0                  0         0          0        0   \n",
       "7                  0                  0         0          0        0   \n",
       "8                  0                  0         0          0        0   \n",
       "9                  0                  0         0          0        0   \n",
       "10                 0                  0         0          0        0   \n",
       "11                 0                  0         0          0        0   \n",
       "12                 0                  0         0          0        0   \n",
       "13                 0                  0         0          0        0   \n",
       "14                 0                  0         0          0        0   \n",
       "15                 0                  0         0          0        0   \n",
       "16                 0                  0         0          0        0   \n",
       "17                 0                  0         0          0        0   \n",
       "18                 0                  0         0          0        0   \n",
       "19                 0                  0         0          0        0   \n",
       "\n",
       "    Aerial_Threat  Engine  \n",
       "0               0       0  \n",
       "1               0       0  \n",
       "2               0       0  \n",
       "3               0       0  \n",
       "4               0       0  \n",
       "5               0       0  \n",
       "6               0       0  \n",
       "7               0       0  \n",
       "8               0       0  \n",
       "9               0       0  \n",
       "10              0       0  \n",
       "11              0       0  \n",
       "12              0       0  \n",
       "13              0       0  \n",
       "14              0       0  \n",
       "15              0       0  \n",
       "16              0       0  \n",
       "17              0       0  \n",
       "18              0       0  \n",
       "19              0       0  "
      ]
     },
     "execution_count": 110,
     "metadata": {},
     "output_type": "execute_result"
    }
   ],
   "source": [
    "specialities = ['Dribbler','Distance_Shooter','Crosser','FK_Specialist','Acrobat','Clinical_Finisher','Speedster','Playmaker','Strength',\\\n",
    "               'Complete_Midfielder','Complete_Forward','Complete_Defender','Tackling','Tactician','Poacher','Aerial_Threat','Engine']\n",
    "\n",
    "players_df_wage[specialities].head(20) - data_test[specialities].head(20)"
   ]
  },
  {
   "cell_type": "markdown",
   "metadata": {},
   "source": [
    "Everything is allright!\n",
    "\n",
    "In our API, the user make a request by passing an input data. This data must be prepared for the models that were pickled before. The function defined below transform the user input list into a dataframe with all the columns necessary to the model for wage predictions."
   ]
  },
  {
   "cell_type": "code",
   "execution_count": null,
   "metadata": {},
   "outputs": [],
   "source": [
    "def prepare_data_for_prediction(input_list):\n",
    "    ball_skills = ['ball_control','dribbling']\n",
    "    defence = ['marking','side_tackle','stand_tackle']\n",
    "    mental = ['aggression','reactions','att_position','interceptions','vision','composure']\n",
    "    passing = ['crossing', 'short_pass', 'long_pass']\n",
    "    physical = ['acceleration', 'stamina', 'strength', 'balance', 'sprint_speed', 'agility', 'jumping']\n",
    "    shooting = ['heading', 'shot_power', 'finishing', 'long_shot', 'curve', 'fk_acc', 'penalties', 'volleys']\n",
    "    goalkeeper = ['gk_positioning', 'gk_diving', 'gk_handling', 'gk_kicking', 'gk_reflexes']\n",
    "\n",
    "    attributes = ball_skills + defence + mental + passing + physical + shooting + goalkeeper\n",
    "\n",
    "    input_columns = ['overall', 'height', 'weight', 'age', 'weak_foot', 'skill_moves',\\\n",
    "                  'preferred_foot_Left', 'preferred_foot_Right', 'att_work_rate_High', 'att_work_rate_Low',\\\n",
    "                  'att_work_rate_Medium', 'def_work_rate_High', 'def_work_rate_Low', 'def_work_rate_Medium',\\\n",
    "                 'RW', 'ST', 'CF', 'LW', 'CAM', 'CB', 'GK', 'CM', 'CDM', 'LM', 'RB', 'RM', 'LB', 'LWB', 'RWB'] + attributes\n",
    "\n",
    "    X = np.array(input_list).reshape(1,-1)\n",
    "    X_df = pd.DataFrame(data=X,columns=input_columns)\n",
    "    \n",
    "    # Features given by the mean of each block of attributes\n",
    "    X_df['ball_skills'] = X_df[ball_skills].mean(axis=1)\n",
    "    X_df['defence'] = X_df[defence].mean(axis=1)\n",
    "    X_df['mental'] =X_df[mental].mean(axis=1)\n",
    "    X_df['passing'] = X_df[passing].mean(axis=1)\n",
    "    X_df['physical'] = X_df[physical].mean(axis=1)\n",
    "    X_df['shooting'] = X_df[shooting].mean(axis=1)\n",
    "    X_df['goalkeeper'] = X_df[goalkeeper].mean(axis=1)\n",
    "\n",
    "    specialities = ['Dribbler','Distance_Shooter','Crosser','FK_Specialist','Acrobat','Clinical_Finisher','Speedster','Playmaker','Strength',\\\n",
    "               'Complete_Midfielder','Complete_Forward','Complete_Defender','Tackling','Tactician','Poacher','Aerial_Threat','Engine']\n",
    "\n",
    "    X_df['Dribbler'] = X_df.apply(is_Dribbler,axis=1)\n",
    "    X_df['Distance_Shooter'] = X_df.apply(is_Distance_Shooter,axis=1)\n",
    "    X_df['Crosser'] = X_df.apply(is_Crosser,axis=1)\n",
    "    X_df['FK_Specialist'] = X_df.apply(is_FK_Specialist,axis=1)\n",
    "    X_df['Acrobat'] = X_df.apply(is_Acrobat,axis=1)\n",
    "    X_df['Clinical_Finisher'] = X_df.apply(is_Clinical_Finisher,axis=1)\n",
    "    X_df['Speedster'] = X_df.apply(is_Speedster,axis=1)\n",
    "    X_df['Playmaker'] = X_df.apply(is_Playmaker,axis=1)\n",
    "    X_df['Strength'] = X_df.apply(is_Strength,axis=1)\n",
    "    X_df['Tackling'] = X_df.apply(is_Tackling,axis=1)\n",
    "    X_df['Tactician'] = X_df.apply(is_Tactician,axis=1)\n",
    "    X_df['Poacher'] = X_df.apply(is_Poacher,axis=1)\n",
    "    X_df['Aerial_Threat'] = X_df.apply(is_Aerial_Threat,axis=1)\n",
    "    X_df['Engine'] = X_df.apply(is_Engine,axis=1)\n",
    "    X_df['Complete_Defender'] = X_df.apply(is_Complete_Defender,axis=1)\n",
    "    X_df['Complete_Midfielder'] = X_df.apply(is_Complete_Midfielder,axis=1)\n",
    "    X_df['Complete_Forward'] = X_df.apply(is_Complete_Forward,axis=1)\n",
    "    \n",
    "    # Body mass index of players\n",
    "    X_df['bmi'] = X_df['weight']/(X_df['height']/100)**2\n",
    "\n",
    "    # Number of specialities\n",
    "    X_df['number_specialities'] = X_df[specialities].sum(axis=1)\n",
    "\n",
    "    # Number of positions that the player can play\n",
    "    positions = ['RW', 'ST', 'CF', 'LW', 'CAM', 'CB', 'CM', 'CDM', 'LM', 'RB', 'RM', 'LB', 'LWB', 'RWB']\n",
    "    X_df['number_preferred_positions'] = X_df[positions].sum(axis=1)\n",
    "\n",
    "    # Number of attributes above a certain threshold\n",
    "    X_df['number_attributes_greater_95'] = (X_df[attributes]>=95).sum(axis=1)\n",
    "    X_df['number_attributes_greater_90'] = (X_df[attributes]>=90).sum(axis=1)\n",
    "    X_df['number_attributes_greater_85'] = (X_df[attributes]>=85).sum(axis=1)\n",
    "    X_df['number_attributes_greater_80'] = (X_df[attributes]>=80).sum(axis=1)\n",
    "    X_df['number_attributes_greater_75'] = (X_df[attributes]>=75).sum(axis=1)\n",
    "    X_df['number_attributes_greater_70'] = (X_df[attributes]>=70).sum(axis=1)\n",
    "\n",
    "    # Number of attributes within a certain range\n",
    "    X_df['number_attributes_greater_90_less_95'] = X_df['number_attributes_greater_90'] - X_df['number_attributes_greater_95']\n",
    "    X_df['number_attributes_greater_85_less_90'] = X_df['number_attributes_greater_85'] - X_df['number_attributes_greater_90']\n",
    "    X_df['number_attributes_greater_80_less_85'] = X_df['number_attributes_greater_80'] - X_df['number_attributes_greater_85']\n",
    "    X_df['number_attributes_greater_75_less_80'] = X_df['number_attributes_greater_75'] - X_df['number_attributes_greater_80']\n",
    "    X_df['number_attributes_greater_70_less_75'] = X_df['number_attributes_greater_70'] - X_df['number_attributes_greater_75']\n",
    "    \n",
    "    return X_df"
   ]
  },
  {
   "cell_type": "markdown",
   "metadata": {},
   "source": [
    "Testing the data preparation and the wage predictions"
   ]
  },
  {
   "cell_type": "code",
   "execution_count": 236,
   "metadata": {},
   "outputs": [
    {
     "data": {
      "text/plain": [
       "298247.8"
      ]
     },
     "execution_count": 236,
     "metadata": {},
     "output_type": "execute_result"
    }
   ],
   "source": [
    "def load_model_logwage():\n",
    "    file_name = \"model_logwage.p\"\n",
    "    with open(file_name, 'rb') as pickled:\n",
    "        data = pickle.load(pickled)\n",
    "        model = data['model']\n",
    "    return model\n",
    "\n",
    "model = load_model_logwage()\n",
    "player_list = players_df_wage[input_columns].copy().iloc[2].tolist()\n",
    "test_df = prepare_data_for_prediction(player_list)\n",
    "np.expm1(model.predict(test_df[model.get_booster().feature_names])[0])"
   ]
  },
  {
   "cell_type": "markdown",
   "metadata": {},
   "source": [
    "Just some final comments: in our app, we want to provide a more rounded number to the user, so that we approximate the predictions to their first two digits. Also, we drop some columns and do more feature engineering before passing the data to the positions predictor. A refinement could be made in the future in order to separate these two process (it is not very nice to require the positions of a player in order to predict positions)."
   ]
  },
  {
   "cell_type": "markdown",
   "metadata": {},
   "source": [
    "# 5 - Getting a response from the Flask API"
   ]
  },
  {
   "cell_type": "code",
   "execution_count": 234,
   "metadata": {},
   "outputs": [],
   "source": [
    "# Example data\n",
    "player_list = players_df_wage[input_columns].copy().iloc[2].tolist()\n",
    "\n",
    "# This URL may be different depending on the computer that the API is running\n",
    "url = 'http://127.0.0.1:5000/predict'\n",
    "headers = {'Content-Type':'application/json'}\n",
    "data = {'input':player_list}\n",
    "\n",
    "r = requests.get(url,headers=headers,json=data)"
   ]
  },
  {
   "cell_type": "code",
   "execution_count": 235,
   "metadata": {},
   "outputs": [
    {
     "data": {
      "text/plain": [
       "{'Predicted wage (EUR)': '300000', 'Best positions': 'LW, CAM, RW, CF'}"
      ]
     },
     "execution_count": 235,
     "metadata": {},
     "output_type": "execute_result"
    }
   ],
   "source": [
    "# Reading the API response in json format\n",
    "r.json()"
   ]
  },
  {
   "cell_type": "markdown",
   "metadata": {},
   "source": [
    "# 6 - Building a webapp"
   ]
  },
  {
   "cell_type": "markdown",
   "metadata": {},
   "source": [
    "The API can be used to make any application by any developer. It can even be used to build a webapp, as explained in [this post](https://towardsdatascience.com/building-a-web-application-to-deploy-machine-learning-models-e224269c1331).\n",
    "\n",
    "However, since I'm not an expert in front-end development, I will prefer a rather simpler approach using [streamlit](https://www.streamlit.io/). Streamlit is an amazing tool for showcasing data science projects in the web, from data analysis and visualization to predictions from complex machine learning models.\n",
    "\n",
    "Of course I learned this for the first time when doing this project, and I must mention a few great sources that helped me build the app:\n",
    "\n",
    "- [This video](https://www.youtube.com/watch?v=ZZ4B0QUHuNc&ab_channel=DataProfessor) made by Data Professor is a great introduction to streamlit.\n",
    "- [This post](https://medium.com/@randerson112358/build-a-machine-learning-web-app-using-python-dad9a1629c96) on medium also helped me a lot.\n",
    "- The streamlit documentation is also really good, with [a great tutorial of the framework basic tools](https://docs.streamlit.io/en/stable/getting_started.html).\n",
    "- Finally, I used [this tutorial](https://towardsdatascience.com/how-to-deploy-a-streamlit-app-using-an-amazon-free-ec2-instance-416a41f69dc3) on medium to deploy the webapp using AWS."
   ]
  }
 ],
 "metadata": {
  "kernelspec": {
   "display_name": "Python 3",
   "language": "python",
   "name": "python3"
  },
  "language_info": {
   "codemirror_mode": {
    "name": "ipython",
    "version": 3
   },
   "file_extension": ".py",
   "mimetype": "text/x-python",
   "name": "python",
   "nbconvert_exporter": "python",
   "pygments_lexer": "ipython3",
   "version": "3.7.1"
  }
 },
 "nbformat": 4,
 "nbformat_minor": 2
}
