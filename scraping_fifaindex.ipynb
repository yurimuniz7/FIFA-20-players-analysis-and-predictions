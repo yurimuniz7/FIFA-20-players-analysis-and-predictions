{
 "cells": [
  {
   "cell_type": "markdown",
   "metadata": {},
   "source": [
    "# Scraping FIFA Index website (Step by step)"
   ]
  },
  {
   "cell_type": "markdown",
   "metadata": {},
   "source": [
    "# 1 - Introduction"
   ]
  },
  {
   "cell_type": "markdown",
   "metadata": {},
   "source": [
    "In this notebook, I try to illustrate the step-by-step of scraping football players information from the [FIFA Index website](https://www.fifaindex.com/). The only purpose of this notebook is to serve as a hands-on tutorial on how to do web scraping using [Beautiful Soup](https://www.crummy.com/software/BeautifulSoup/bs4/doc/) and to explain the code that is able to return the players dataset used in this project (the functions in the scraping_functions.py file). Despite the fact that there are many tutorials of web scraping on the internet (like [this](https://towardsdatascience.com/a-short-practical-how-to-guide-to-scrape-data-from-a-website-using-python-888373227d4f)), I think I learned a lot more here since the information that I was interested is spread in many different HTML tags, and the page layouts change depending on some player features (and also because there is no better tutorial than getting your hands dirty). **As always, any suggestion or constructive criticism is welcome**."
   ]
  },
  {
   "cell_type": "markdown",
   "metadata": {},
   "source": [
    "# 2 - Getting information from a single player"
   ]
  },
  {
   "cell_type": "markdown",
   "metadata": {},
   "source": [
    "In order to get information from all players present on fifa 20, we need to know how to get that info from a single player. As an example, we start by examinating the [Lionel Messi page on FIFA Index](https://www.fifaindex.com/player/158023/lionel-messi/), and then discuss how we can generalize the data extraction pipeline to all other players. The first thing to do is download the html from the given page using the requests package and then make the soup (the navigable tree of python objects)."
   ]
  },
  {
   "cell_type": "code",
   "execution_count": 1,
   "metadata": {},
   "outputs": [],
   "source": [
    "# Importing libraries used in this section\n",
    "import requests\n",
    "import bs4"
   ]
  },
  {
   "cell_type": "code",
   "execution_count": 2,
   "metadata": {},
   "outputs": [],
   "source": [
    "url_messi = \"https://www.fifaindex.com/player/158023/lionel-messi/\"\n",
    "# Requesting access to the webpage\n",
    "page_messi = requests.get(url_messi)"
   ]
  },
  {
   "cell_type": "code",
   "execution_count": 3,
   "metadata": {},
   "outputs": [],
   "source": [
    "# Making the soup\n",
    "soup = bs4.BeautifulSoup(page_messi.text,\"html.parser\")"
   ]
  },
  {
   "cell_type": "markdown",
   "metadata": {},
   "source": [
    "Once we have the soup, we need to identify which html tag contains the information that we need. This can be done by clicking with the right mouse button on the page and then on inspect. After that, for any element on the page we can find the corresponding html tag, as shown in the image below.\n",
    "\n",
    "<img src=\"images/messi1.png\">\n",
    "\n",
    "Now, getting the information that we want can be done in just a few lines of code."
   ]
  },
  {
   "cell_type": "code",
   "execution_count": 4,
   "metadata": {},
   "outputs": [
    {
     "data": {
      "text/plain": [
       "['Lionel Messi', '94', '94']"
      ]
     },
     "execution_count": 4,
     "metadata": {},
     "output_type": "execute_result"
    }
   ],
   "source": [
    "# Finding the name of the player, overall and potential\n",
    "info_list = list(soup.find('h5').stripped_strings)\n",
    "info_list"
   ]
  },
  {
   "cell_type": "code",
   "execution_count": 5,
   "metadata": {},
   "outputs": [
    {
     "data": {
      "text/plain": [
       "['Lionel Messi', '94', '94', 'Argentina']"
      ]
     },
     "execution_count": 5,
     "metadata": {},
     "output_type": "execute_result"
    }
   ],
   "source": [
    "# Finding the nationality of a player\n",
    "info_list.append(soup.find_all('a', {\"class\": \"link-nation\"})[1].text)\n",
    "info_list"
   ]
  },
  {
   "cell_type": "markdown",
   "metadata": {},
   "source": [
    "<img src=\"images/messi2.png\" width=\"600\" style=\"float:right\"> By inspecting the page, we identify that almost all relevant player data are inside tags using the css class \"card-body\", as shown on the right. We can then find all cards using the soup that we made, and navigate in each one of them to extract the player attributes."
   ]
  },
  {
   "cell_type": "code",
   "execution_count": 6,
   "metadata": {},
   "outputs": [],
   "source": [
    "# Getting all the player information cards\n",
    "cards = soup.find_all(\"div\", {\"class\": \"card-body\"})"
   ]
  },
  {
   "cell_type": "code",
   "execution_count": 7,
   "metadata": {},
   "outputs": [
    {
     "data": {
      "text/plain": [
       "['Lionel Messi',\n",
       " '94',\n",
       " '94',\n",
       " 'Argentina',\n",
       " \"Lionel Messi was born on June 24, 1987. He is currently 33 years old and plays as a Wide Man for FC Barcelona in Spain. His overall rating in FIFA 20 is 94 with a potential of 94. Messi has got a 4-star skillmoves rating. He prefers to shoot with his left foot. His workrates are Medium / Low. Messi's height is 170 cm cm and his weight is estimated at 72 kg kg according to our database. Currently, Lionel Messi is playing with number 10. His best stats are: Dribbling: 97, Ball Control: 96, Composure: 96, Reactions: 95, Balance: 95.\"]"
      ]
     },
     "execution_count": 7,
     "metadata": {},
     "output_type": "execute_result"
    }
   ],
   "source": [
    "# Player stats card\n",
    "info_list.append(cards[0].p.text)\n",
    "info_list"
   ]
  },
  {
   "cell_type": "code",
   "execution_count": 8,
   "metadata": {},
   "outputs": [
    {
     "data": {
      "text/plain": [
       "[<p class=\"\">Height <span class=\"float-right\"><span class=\"data-units data-units-metric\">170 cm</span><span class=\"data-units data-units-imperial\">5'7\"</span></span></p>,\n",
       " <p class=\"\">Weight <span class=\"float-right\"><span class=\"data-units data-units-metric\">72 kg</span><span class=\"data-units data-units-imperial\">159 lbs</span></span></p>,\n",
       " <p class=\"\">Preferred Foot <span class=\"float-right\">Left</span></p>,\n",
       " <p class=\"\">Birth Date <span class=\"float-right\">June 24, 1987</span></p>,\n",
       " <p class=\"\">Age <span class=\"float-right\">33</span></p>,\n",
       " <p class=\"\">Preferred Positions <span class=\"float-right\"><a class=\"link-position\" href=\"/players/?position=23\" title=\"RW\"><span class=\"badge badge-dark position rw\">RW</span></a><a class=\"link-position\" href=\"/players/?position=25\" title=\"ST\"><span class=\"badge badge-dark position st\">ST</span></a><a class=\"link-position\" href=\"/players/?position=21\" title=\"CF\"><span class=\"badge badge-dark position cf\">CF</span></a></span></p>,\n",
       " <p class=\"\">Player Work Rate <span class=\"float-right\">Medium / Low</span></p>,\n",
       " <p class=\"\">Weak Foot <span class=\"float-right\"><span class=\"star\"><i class=\"fas fa-star fa-lg\"></i><i class=\"fas fa-star fa-lg\"></i><i class=\"fas fa-star fa-lg\"></i><i class=\"fas fa-star fa-lg\"></i><i class=\"far fa-star fa-lg\"></i></span></span></p>,\n",
       " <p class=\"\">Skill Moves <span class=\"float-right\"><span class=\"star\"><i class=\"fas fa-star fa-lg\"></i><i class=\"fas fa-star fa-lg\"></i><i class=\"fas fa-star fa-lg\"></i><i class=\"fas fa-star fa-lg\"></i><i class=\"far fa-star fa-lg\"></i></span></span></p>,\n",
       " <p class=\"data-currency data-currency-euro\">Value <span class=\"float-right\">€95.500.000</span></p>,\n",
       " <p class=\"data-currency data-currency-dollar\">Value <span class=\"float-right\">$95.500.000</span></p>,\n",
       " <p class=\"data-currency data-currency-pound\">Value <span class=\"float-right\">£95.500.000</span></p>,\n",
       " <p class=\"data-currency data-currency-euro\">Wage <span class=\"float-right\">€560.000</span></p>,\n",
       " <p class=\"data-currency data-currency-dollar\">Wage <span class=\"float-right\">$560.000</span></p>,\n",
       " <p class=\"data-currency data-currency-pound\">Wage <span class=\"float-right\">£560.000</span></p>]"
      ]
     },
     "execution_count": 8,
     "metadata": {},
     "output_type": "execute_result"
    }
   ],
   "source": [
    "#Looking at all pieces of information of the main card\n",
    "p_tags = cards[1].find_all('p')\n",
    "p_tags"
   ]
  },
  {
   "cell_type": "code",
   "execution_count": 9,
   "metadata": {},
   "outputs": [
    {
     "name": "stdout",
     "output_type": "stream",
     "text": [
      "['Height ', '170 cm', '5\\'7\"']\n",
      "['Weight ', '72 kg', '159 lbs']\n",
      "['Preferred Foot ', 'Left']\n",
      "['Birth Date ', 'June 24, 1987']\n",
      "['Age ', '33']\n",
      "['Preferred Positions ', 'RW', 'ST', 'CF']\n",
      "['Player Work Rate ', 'Medium / Low']\n",
      "['Weak Foot ']\n",
      "['Skill Moves ']\n",
      "['Value ', '€95.500.000']\n",
      "['Value ', '$95.500.000']\n",
      "['Value ', '£95.500.000']\n",
      "['Wage ', '€560.000']\n",
      "['Wage ', '$560.000']\n",
      "['Wage ', '£560.000']\n"
     ]
    }
   ],
   "source": [
    "for p_tag in p_tags:\n",
    "    print(list(p_tag.strings))"
   ]
  },
  {
   "cell_type": "markdown",
   "metadata": {},
   "source": [
    "As we can see, some of the information in the main card is redundant, like the weight in kg and in lbs, or the wage in dollars, euros or pounds. Also, the number of stars in \"Weak Foot\" and \"Skill Moves\" are not given by a string, but we can still get this information by noticing that bright stars and empty stars corresponds to different classes inside the \"i\" tag. Hence, this time we need more lines of code to get useful and not redundant data."
   ]
  },
  {
   "cell_type": "code",
   "execution_count": 10,
   "metadata": {},
   "outputs": [
    {
     "data": {
      "text/plain": [
       "['Lionel Messi',\n",
       " '94',\n",
       " '94',\n",
       " 'Argentina',\n",
       " \"Lionel Messi was born on June 24, 1987. He is currently 33 years old and plays as a Wide Man for FC Barcelona in Spain. His overall rating in FIFA 20 is 94 with a potential of 94. Messi has got a 4-star skillmoves rating. He prefers to shoot with his left foot. His workrates are Medium / Low. Messi's height is 170 cm cm and his weight is estimated at 72 kg kg according to our database. Currently, Lionel Messi is playing with number 10. His best stats are: Dribbling: 97, Ball Control: 96, Composure: 96, Reactions: 95, Balance: 95.\",\n",
       " '170 cm',\n",
       " '72 kg',\n",
       " 'Left',\n",
       " 'June 24, 1987',\n",
       " '33',\n",
       " 'RW/ST/CF',\n",
       " 'Medium / Low',\n",
       " 4,\n",
       " 4,\n",
       " '€95.500.000',\n",
       " '€560.000']"
      ]
     },
     "execution_count": 10,
     "metadata": {},
     "output_type": "execute_result"
    }
   ],
   "source": [
    "# Getting all the information from the main card\n",
    "for p_tag in p_tags[:5]:\n",
    "    info_list.append(list(p_tag.strings)[1])\n",
    "\n",
    "# Care should be taken here since different players have a different number of preferred positions\n",
    "positions = ''    \n",
    "for position in list(p_tags[5].strings)[1:]:\n",
    "    positions += position + '/'\n",
    "\n",
    "positions = positions[:-1]    \n",
    "info_list.append(positions)\n",
    "info_list.append(list(p_tags[6].strings)[1])\n",
    "\n",
    "weak_foot_stars = len(p_tags[7].find_all('i',{\"class\": \"fas fa-star fa-lg\"}))\n",
    "info_list.append(weak_foot_stars)\n",
    "\n",
    "skill_moves_stars = len(p_tags[8].find_all('i',{\"class\": \"fas fa-star fa-lg\"}))\n",
    "info_list.append(skill_moves_stars)\n",
    "\n",
    "# Only getting wage and value in euros\n",
    "info_list.append(list(p_tags[9].strings)[1])\n",
    "info_list.append(list(p_tags[12].strings)[1])\n",
    "\n",
    "info_list"
   ]
  },
  {
   "cell_type": "markdown",
   "metadata": {},
   "source": [
    "The next cards are related to the teams in which Messi plays (Barcelona and Argentina). I'm not interested in that information. The only thing that I want to know is the name of the club and national team of the player (if any). Depending on the player, the number and order of the cards may change. For example, if a player does not play for his national team, this card will be missing in the page (See, for instance, [Dayot Upamecano](https://www.fifaindex.com/player/229558/dayot-upamecano/)). Free Agents like [Schetino](https://www.fifaindex.com/player/245309/egidio-maestre-schetino/) have the national team on the right card instead of on the left, and other players like [Walker Zimmerman](https://www.fifaindex.com/player/212591/walker-zimmerman/) do not have any information at all. Also, players that do not belong to a club cannot have a wage or value information. For this reason, it is useful to define the **team_info** variable below, which allows us to count the number of teams of the player and check who they are. In the get_player_data function this variable is important to avoid errors in the code that could be generated from missing information in some player webpages."
   ]
  },
  {
   "cell_type": "code",
   "execution_count": 11,
   "metadata": {},
   "outputs": [
    {
     "name": "stdout",
     "output_type": "stream",
     "text": [
      "number of teams: 2\n",
      "\n"
     ]
    },
    {
     "data": {
      "text/plain": [
       "[<div class=\"col-12 col-sm-6 col-lg-6 team\">\n",
       " <div class=\"card mb-5\">\n",
       " <h5 class=\"card-header\"><a class=\"link-team\" href=\"/team/1369/argentina/\" title=\"Argentina FIFA 20\"><img alt=\"Argentina FIFA 20\" class=\"team size-3\" data-src=\"/static/FIFA20/images/crest/3/light/1369.png\" data-srcset=\"/static/FIFA20/images/crest/3/light/1369@2x.png 2x, /static/FIFA20/images/crest/3/light/1369@3x.png 3x\" src=\"/static/FIFA21/images/crest/3/light/notfound.png\" title=\"Argentina FIFA 20\"/></a> <a class=\"link-team\" href=\"/team/1369/argentina/\" title=\"Argentina FIFA 20\">Argentina</a></h5>\n",
       " <div class=\"card-body\">\n",
       " <p class=\"\">Position <span class=\"float-right\"><a class=\"link-position\" href=\"/players/?position=24\" title=\"RS\"><span class=\"badge badge-dark position rs\">RS</span></a></span></p>\n",
       " <p class=\"\">Kit Number <span class=\"float-right\">10</span></p>\n",
       " </div>\n",
       " </div>\n",
       " </div>, <div class=\"col-12 col-sm-6 col-lg-6 team\">\n",
       " <div class=\"card mb-5\">\n",
       " <h5 class=\"card-header\"><a class=\"link-team\" href=\"/team/241/fc-barcelona/\" title=\"FC Barcelona FIFA 20\"><img alt=\"FC Barcelona FIFA 20\" class=\"team size-3\" data-src=\"/static/FIFA20/images/crest/3/light/241.png\" data-srcset=\"/static/FIFA20/images/crest/3/light/241@2x.png 2x, /static/FIFA20/images/crest/3/light/241@3x.png 3x\" src=\"/static/FIFA21/images/crest/3/light/notfound.png\" title=\"FC Barcelona FIFA 20\"/></a> <a class=\"link-team\" href=\"/team/241/fc-barcelona/\" title=\"FC Barcelona FIFA 20\">FC Barcelona</a></h5>\n",
       " <div class=\"card-body\">\n",
       " <p class=\"\">Position <span class=\"float-right\"><a class=\"link-position\" href=\"/players/?position=23\" title=\"RW\"><span class=\"badge badge-dark position rw\">RW</span></a></span></p>\n",
       " <p class=\"\">Kit Number <span class=\"float-right\">10</span></p>\n",
       " <p class=\"\">Joined Club <span class=\"float-right\">July 1, 2004</span></p>\n",
       " <p class=\"\">Contract Length <span class=\"float-right\">2021</span></p>\n",
       " <button class=\"btn btn-block btn-sm btn-primary\" data-target=\"#transferModal\" data-toggle=\"modal\"><i class=\"fa fa-exchange-alt\"></i> Transfer Rumours</button>\n",
       " </div>\n",
       " </div>\n",
       " </div>]"
      ]
     },
     "execution_count": 11,
     "metadata": {},
     "output_type": "execute_result"
    }
   ],
   "source": [
    "# player team(s) information\n",
    "teams_info = soup.find_all('div',{'class':'col-12 col-sm-6 col-lg-6 team'})\n",
    "print(\"number of teams: {}\\n\".format(len(teams_info)))\n",
    "teams_info"
   ]
  },
  {
   "cell_type": "markdown",
   "metadata": {},
   "source": [
    "After the initial and tricky part of the scraping, luckly all other cards follow a similar structure. The numeric cards (like Passing and Shooting) have all the information on \"p\" tags, which can be easily extracted."
   ]
  },
  {
   "cell_type": "code",
   "execution_count": 12,
   "metadata": {},
   "outputs": [
    {
     "data": {
      "text/plain": [
       "<div class=\"card-body\">\n",
       "<p class=\"\">Ball Control <span class=\"float-right\"><span class=\"badge badge-dark rating r1\">96</span></span></p>\n",
       "<p class=\"\">Dribbling <span class=\"float-right\"><span class=\"badge badge-dark rating r1\">97</span></span></p>\n",
       "</div>"
      ]
     },
     "execution_count": 12,
     "metadata": {},
     "output_type": "execute_result"
    }
   ],
   "source": [
    "cards[4]"
   ]
  },
  {
   "cell_type": "code",
   "execution_count": 13,
   "metadata": {},
   "outputs": [
    {
     "data": {
      "text/plain": [
       "['Lionel Messi',\n",
       " '94',\n",
       " '94',\n",
       " 'Argentina',\n",
       " \"Lionel Messi was born on June 24, 1987. He is currently 33 years old and plays as a Wide Man for FC Barcelona in Spain. His overall rating in FIFA 20 is 94 with a potential of 94. Messi has got a 4-star skillmoves rating. He prefers to shoot with his left foot. His workrates are Medium / Low. Messi's height is 170 cm cm and his weight is estimated at 72 kg kg according to our database. Currently, Lionel Messi is playing with number 10. His best stats are: Dribbling: 97, Ball Control: 96, Composure: 96, Reactions: 95, Balance: 95.\",\n",
       " '170 cm',\n",
       " '72 kg',\n",
       " 'Left',\n",
       " 'June 24, 1987',\n",
       " '33',\n",
       " 'RW/ST/CF',\n",
       " 'Medium / Low',\n",
       " 4,\n",
       " 4,\n",
       " '€95.500.000',\n",
       " '€560.000',\n",
       " 96,\n",
       " 97,\n",
       " 33,\n",
       " 26,\n",
       " 37,\n",
       " 48,\n",
       " 95,\n",
       " 94,\n",
       " 40,\n",
       " 94,\n",
       " 96,\n",
       " 88,\n",
       " 92,\n",
       " 92,\n",
       " 91,\n",
       " 75,\n",
       " 68,\n",
       " 95,\n",
       " 84,\n",
       " 93,\n",
       " 68,\n",
       " 70,\n",
       " 86,\n",
       " 95,\n",
       " 94,\n",
       " 93,\n",
       " 94,\n",
       " 75,\n",
       " 88,\n",
       " 14,\n",
       " 6,\n",
       " 11,\n",
       " 15,\n",
       " 8]"
      ]
     },
     "execution_count": 13,
     "metadata": {},
     "output_type": "execute_result"
    }
   ],
   "source": [
    "for i in range(4,11):\n",
    "    tags = cards[i].find_all('p')\n",
    "    for tag in tags:\n",
    "        info_list.append(int(tag.span.text))\n",
    "        \n",
    "info_list"
   ]
  },
  {
   "cell_type": "markdown",
   "metadata": {},
   "source": [
    "The Specialities and Traits cards have unique strings that characterize the special features of the player. Therefore, we can concatenate all this information in a single string (in a similar way we did for the preferred positions). "
   ]
  },
  {
   "cell_type": "code",
   "execution_count": 14,
   "metadata": {},
   "outputs": [
    {
     "data": {
      "text/plain": [
       "<div class=\"card-body\">\n",
       "<p>Dribbler</p>\n",
       "<p>Distance Shooter</p>\n",
       "<p>Crosser</p>\n",
       "<p>FK Specialist</p>\n",
       "<p>Acrobat</p>\n",
       "<p>Clinical Finisher</p>\n",
       "</div>"
      ]
     },
     "execution_count": 14,
     "metadata": {},
     "output_type": "execute_result"
    }
   ],
   "source": [
    "cards[11]"
   ]
  },
  {
   "cell_type": "code",
   "execution_count": 15,
   "metadata": {},
   "outputs": [],
   "source": [
    "specialities = ''\n",
    "for tag in cards[11].find_all('p'):\n",
    "    specialities += tag.text + '/'\n",
    "    \n",
    "specialities = specialities[:-1]\n",
    "info_list.append(specialities)\n",
    "\n",
    "traits = ''\n",
    "for tag in cards[12].find_all('p'):\n",
    "    traits += tag.text + '/'\n",
    "    \n",
    "traits = traits[:-1]\n",
    "info_list.append(traits)"
   ]
  },
  {
   "cell_type": "markdown",
   "metadata": {},
   "source": [
    "By wrapping up everything that was discussed in this section, we can easily understand the get_player_data function defined in the scraping_functions.py file, which receive a player url and returns a dictionary with all relevant data from the player."
   ]
  },
  {
   "cell_type": "markdown",
   "metadata": {},
   "source": [
    "# 3 - Getting all player webpages"
   ]
  },
  {
   "cell_type": "markdown",
   "metadata": {},
   "source": [
    "In order to use the get_player_data function to scrape information of every player in FIFA 20, we need to first get all the corresponding URLs. By inspecting the FIFA Index main page, we notice that each player has a unique ID that appear in his URL.\n",
    "\n",
    "<img src=\"images/ronaldo7.png\">\n",
    "\n",
    "We could store the whole URL, but it is cleaner to store the players IDs and construct the URL following the pattern \"https://www.fifaindex.com/player/\" + player_id. To get the IDs from a page with a list of players, we can use the following code:"
   ]
  },
  {
   "cell_type": "code",
   "execution_count": 16,
   "metadata": {},
   "outputs": [
    {
     "name": "stdout",
     "output_type": "stream",
     "text": [
      "['221363', '208054', '158023', '20801', '234396', '229558', '235790', '239085', '233049', '231747', '241096', '228702', '190871', '246147', '206113', '253004', '206517', '213956', '212188', '181291', '208670', '231478', '202652', '211110', '233306', '203376', '237692', '248243', '173731', '209658']\n"
     ]
    }
   ],
   "source": [
    "players_ids = []\n",
    "players_list_url = 'https://www.fifaindex.com'\n",
    "\n",
    "players_list_page = requests.get(players_list_url)\n",
    "soup = bs4.BeautifulSoup(players_list_page.text,\"html.parser\")\n",
    "        \n",
    "for player_tag in soup.find_all(attrs={'data-playerid': True}):\n",
    "    players_ids.append(player_tag['data-playerid'])\n",
    "    \n",
    "print(players_ids)"
   ]
  },
  {
   "cell_type": "markdown",
   "metadata": {},
   "source": [
    "The idea is then to navigate all pages listing players and extract the IDs. To do that, we need to \"click\" the \"Next Page\" button after scraping the IDs from a given page. This can be done by finding the tag containing the link associated with the \"Next Page\" button."
   ]
  },
  {
   "cell_type": "code",
   "execution_count": 17,
   "metadata": {},
   "outputs": [
    {
     "name": "stdout",
     "output_type": "stream",
     "text": [
      "Next Page tag: <a class=\"btn btn-light\" href=\"/2/\">Next Page</a>\n"
     ]
    }
   ],
   "source": [
    "# Finding the link to the next page\n",
    "link_tag = soup.find('a',string='Next Page')\n",
    "print(\"Next Page tag: {}\".format(str(link_tag)))\n",
    "\n",
    "# Joining with the main page\n",
    "fifaindex_url = 'https://www.fifaindex.com'\n",
    "players_list_url = fifaindex_url+link_tag['href']\n",
    "\n",
    "# Clicking the Next Page button\n",
    "players_list_page = requests.get(players_list_url)"
   ]
  },
  {
   "cell_type": "markdown",
   "metadata": {},
   "source": [
    "By iterating this process we are able to obtain the IDs of all players we are interested in (we can filter the players in the website by many different ways). The get_players_ids function (in the scraping_functions.py file) perform this operation sequentially until it reaches the last page (i.e., link_tag = None)."
   ]
  },
  {
   "cell_type": "markdown",
   "metadata": {},
   "source": [
    "# 4 - Iterating over all players and constructing the dataset"
   ]
  },
  {
   "cell_type": "markdown",
   "metadata": {},
   "source": [
    "Now it's time to construct the dataset and generate the fifaindex_players.csv file. We first import the relevant functions and packages from the scraping_functions.py file."
   ]
  },
  {
   "cell_type": "code",
   "execution_count": 18,
   "metadata": {},
   "outputs": [],
   "source": [
    "from scraping_functions import *"
   ]
  },
  {
   "cell_type": "markdown",
   "metadata": {},
   "source": [
    "Second, we get all the players IDs and save them in a txt file (just for not having to do it again in case of having to restart the kernel). N.B.: we are interested only in male players, hence, the URL has a query string given by '?gender=male'."
   ]
  },
  {
   "cell_type": "code",
   "execution_count": null,
   "metadata": {},
   "outputs": [],
   "source": [
    "players_ids = get_players_ids('https://www.fifaindex.com/players/?gender=male')\n",
    "\n",
    "with open('players_ids.txt', 'w') as filehandle:\n",
    "    for listitem in players_ids:\n",
    "        filehandle.write('%s\\n' % listitem)"
   ]
  },
  {
   "cell_type": "code",
   "execution_count": 19,
   "metadata": {},
   "outputs": [],
   "source": [
    "# Code to read the saved file (if needed)\n",
    "players_ids = []\n",
    "\n",
    "with open('players_ids.txt', 'r') as filehandle:\n",
    "    for line in filehandle:\n",
    "        currentPlace = line[:-1]\n",
    "        players_ids.append(currentPlace)"
   ]
  },
  {
   "cell_type": "markdown",
   "metadata": {},
   "source": [
    "Finally, we generate the dataframe and save it into a csv file. The generate_players_df function automatically creates the dataframe for us. However, since we are collecting data from every player (almost 20000), it is useful to construct the dataset incrementally to prevent losing the data due to connection losses or anything else in the middle of the scraping process (this actually happened to me :( ...). In the code below we make sure that we do not lose progress if we have a problem at some point of the scraping. Also, I try to [be a nice guy by not scraping the website too fast](https://www.scrapehero.com/how-to-prevent-getting-blacklisted-while-scraping/) (I also make sure of this in the defined functions). By the end of the day (and with that I mean almost 24 hours of scraping) you will have the fifaindex dataset that I used in the project (or any other dataset from this website)."
   ]
  },
  {
   "cell_type": "code",
   "execution_count": null,
   "metadata": {},
   "outputs": [],
   "source": [
    "df = pd.DataFrame()\n",
    "#df = pd.read_csv('fifaindex_players.csv') --> If you have to restart the scraper\n",
    "\n",
    "iteration = 0\n",
    "total_iterations = int(len(players_ids)/250)\n",
    "for i in range(iteration,total_iterations):\n",
    "    \n",
    "    iteration = i\n",
    "    df_i = generate_players_df(players_ids[250*i:(250*i+250)])\n",
    "    df = pd.concat([df,df_i],ignore_index=True)\n",
    "    df.to_csv('fifaindex_players.csv',index=False)\n",
    "    clear_output(wait=True)\n",
    "    gc.collect()\n",
    "    print('iteration number {} finished. Waiting 30 seconds before proceeding...\\n'.format(iteration))\n",
    "    time.sleep(30)\n",
    "    clear_output(wait=True)\n",
    "\n",
    "iteration = total_iterations\n",
    "df_i = generate_players_df(players_ids[250*iteration:])\n",
    "df = pd.concat([df,df_i],ignore_index=True)\n",
    "df.to_csv('fifaindex_players.csv',index=False)\n",
    "clear_output(wait=True)\n",
    "gc.collect()\n",
    "\n",
    "df.tail()"
   ]
  },
  {
   "cell_type": "code",
   "execution_count": 20,
   "metadata": {},
   "outputs": [
    {
     "name": "stdout",
     "output_type": "stream",
     "text": [
      "<class 'pandas.core.frame.DataFrame'>\n",
      "RangeIndex: 19626 entries, 0 to 19625\n",
      "Data columns (total 53 columns):\n",
      "name                   19626 non-null object\n",
      "overall                19626 non-null int64\n",
      "potential              19626 non-null int64\n",
      "nationality            19626 non-null object\n",
      "description            19626 non-null object\n",
      "height                 19626 non-null object\n",
      "weight                 19626 non-null object\n",
      "preferred_foot         19626 non-null object\n",
      "birth_date             19626 non-null object\n",
      "age                    19626 non-null int64\n",
      "preferred_positions    19626 non-null object\n",
      "work_rate              19626 non-null object\n",
      "weak_foot              19626 non-null int64\n",
      "skill_moves            19626 non-null int64\n",
      "value                  19626 non-null object\n",
      "wage                   19626 non-null object\n",
      "team_club              19626 non-null object\n",
      "team_nation            19626 non-null object\n",
      "ball_control           19626 non-null int64\n",
      "dribbling              19626 non-null int64\n",
      "marking                19626 non-null int64\n",
      "side_tackle            19626 non-null int64\n",
      "stand_tackle           19626 non-null int64\n",
      "aggression             19626 non-null int64\n",
      "reactions              19626 non-null int64\n",
      "att_position           19626 non-null int64\n",
      "interceptions          19626 non-null int64\n",
      "vision                 19626 non-null int64\n",
      "composure              19626 non-null int64\n",
      "crossing               19626 non-null int64\n",
      "short_pass             19626 non-null int64\n",
      "long_pass              19626 non-null int64\n",
      "acceleration           19626 non-null int64\n",
      "stamina                19626 non-null int64\n",
      "strength               19626 non-null int64\n",
      "balance                19626 non-null int64\n",
      "sprint_speed           19626 non-null int64\n",
      "agility                19626 non-null int64\n",
      "jumping                19626 non-null int64\n",
      "heading                19626 non-null int64\n",
      "shot_power             19626 non-null int64\n",
      "finishing              19626 non-null int64\n",
      "long_shot              19626 non-null int64\n",
      "curve                  19626 non-null int64\n",
      "fk_acc                 19626 non-null int64\n",
      "penalties              19626 non-null int64\n",
      "volleys                19626 non-null int64\n",
      "gk_positioning         19626 non-null int64\n",
      "gk_diving              19626 non-null int64\n",
      "gk_handling            19626 non-null int64\n",
      "gk_kicking             19626 non-null int64\n",
      "gk_reflexes            19626 non-null int64\n",
      "specialities_traits    19626 non-null object\n",
      "dtypes: int64(39), object(14)\n",
      "memory usage: 7.9+ MB\n"
     ]
    }
   ],
   "source": [
    "# Inspecting if everything is ok\n",
    "pd.read_csv('fifaindex_players.csv').info()"
   ]
  }
 ],
 "metadata": {
  "kernelspec": {
   "display_name": "Python 3",
   "language": "python",
   "name": "python3"
  },
  "language_info": {
   "codemirror_mode": {
    "name": "ipython",
    "version": 3
   },
   "file_extension": ".py",
   "mimetype": "text/x-python",
   "name": "python",
   "nbconvert_exporter": "python",
   "pygments_lexer": "ipython3",
   "version": "3.7.1"
  }
 },
 "nbformat": 4,
 "nbformat_minor": 2
}
